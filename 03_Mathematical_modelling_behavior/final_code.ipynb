{
 "cells": [
  {
   "cell_type": "markdown",
   "id": "1bdbe45b-c2c8-494f-9a2f-9ead2d50f572",
   "metadata": {
    "tags": []
   },
   "source": [
    "hello (Note : driving licence , car available)"
   ]
  },
  {
   "cell_type": "markdown",
   "id": "791bdec5-9a8a-4138-aae4-901284680d63",
   "metadata": {
    "tags": []
   },
   "source": [
    "# Setup"
   ]
  },
  {
   "cell_type": "code",
   "execution_count": 6,
   "id": "a33fee62-49f1-465f-9f86-9a2d3499348d",
   "metadata": {},
   "outputs": [],
   "source": [
    "import pandas as pd\n",
    "import numpy as np\n",
    "import biogeme.database as db\n",
    "import biogeme.biogeme as bio\n",
    "from biogeme.expressions import Beta, Variable\n",
    "from biogeme import models\n",
    "from biogeme import results as res\n",
    "\n",
    "from biogeme.expressions import Derive"
   ]
  },
  {
   "cell_type": "code",
   "execution_count": 7,
   "id": "21cd1c3d-7910-4a9b-b4a4-fc0d88624623",
   "metadata": {},
   "outputs": [
    {
     "data": {
      "text/html": [
       "<div>\n",
       "<style scoped>\n",
       "    .dataframe tbody tr th:only-of-type {\n",
       "        vertical-align: middle;\n",
       "    }\n",
       "\n",
       "    .dataframe tbody tr th {\n",
       "        vertical-align: top;\n",
       "    }\n",
       "\n",
       "    .dataframe thead th {\n",
       "        text-align: right;\n",
       "    }\n",
       "</style>\n",
       "<table border=\"1\" class=\"dataframe\">\n",
       "  <thead>\n",
       "    <tr style=\"text-align: right;\">\n",
       "      <th></th>\n",
       "      <th>trip_id</th>\n",
       "      <th>household_id</th>\n",
       "      <th>person_n</th>\n",
       "      <th>trip_n</th>\n",
       "      <th>travel_mode</th>\n",
       "      <th>purpose</th>\n",
       "      <th>fueltype</th>\n",
       "      <th>faretype</th>\n",
       "      <th>bus_scale</th>\n",
       "      <th>survey_year</th>\n",
       "      <th>...</th>\n",
       "      <th>dur_pt_bus</th>\n",
       "      <th>dur_pt_int</th>\n",
       "      <th>pt_interchanges</th>\n",
       "      <th>dur_driving</th>\n",
       "      <th>cost_transit</th>\n",
       "      <th>cost_driving_fuel</th>\n",
       "      <th>cost_driving_ccharge</th>\n",
       "      <th>driving_traffic_percent</th>\n",
       "      <th>cost_driving</th>\n",
       "      <th>dur_pt</th>\n",
       "    </tr>\n",
       "  </thead>\n",
       "  <tbody>\n",
       "    <tr>\n",
       "      <th>0</th>\n",
       "      <td>9</td>\n",
       "      <td>0</td>\n",
       "      <td>2</td>\n",
       "      <td>3</td>\n",
       "      <td>4</td>\n",
       "      <td>3</td>\n",
       "      <td>1</td>\n",
       "      <td>3</td>\n",
       "      <td>0.0</td>\n",
       "      <td>1</td>\n",
       "      <td>...</td>\n",
       "      <td>0.221111</td>\n",
       "      <td>0.0</td>\n",
       "      <td>0</td>\n",
       "      <td>0.222222</td>\n",
       "      <td>0.0</td>\n",
       "      <td>0.77</td>\n",
       "      <td>0.0</td>\n",
       "      <td>0.097500</td>\n",
       "      <td>0.77</td>\n",
       "      <td>0.426667</td>\n",
       "    </tr>\n",
       "    <tr>\n",
       "      <th>1</th>\n",
       "      <td>11</td>\n",
       "      <td>1</td>\n",
       "      <td>0</td>\n",
       "      <td>1</td>\n",
       "      <td>4</td>\n",
       "      <td>3</td>\n",
       "      <td>1</td>\n",
       "      <td>5</td>\n",
       "      <td>0.0</td>\n",
       "      <td>1</td>\n",
       "      <td>...</td>\n",
       "      <td>0.122222</td>\n",
       "      <td>0.0</td>\n",
       "      <td>0</td>\n",
       "      <td>0.132222</td>\n",
       "      <td>0.0</td>\n",
       "      <td>0.50</td>\n",
       "      <td>0.0</td>\n",
       "      <td>0.065126</td>\n",
       "      <td>0.50</td>\n",
       "      <td>0.363611</td>\n",
       "    </tr>\n",
       "    <tr>\n",
       "      <th>2</th>\n",
       "      <td>20</td>\n",
       "      <td>5</td>\n",
       "      <td>1</td>\n",
       "      <td>0</td>\n",
       "      <td>4</td>\n",
       "      <td>3</td>\n",
       "      <td>1</td>\n",
       "      <td>5</td>\n",
       "      <td>0.0</td>\n",
       "      <td>1</td>\n",
       "      <td>...</td>\n",
       "      <td>0.062222</td>\n",
       "      <td>0.0</td>\n",
       "      <td>0</td>\n",
       "      <td>0.117222</td>\n",
       "      <td>0.0</td>\n",
       "      <td>0.41</td>\n",
       "      <td>0.0</td>\n",
       "      <td>0.097156</td>\n",
       "      <td>0.41</td>\n",
       "      <td>0.443889</td>\n",
       "    </tr>\n",
       "    <tr>\n",
       "      <th>3</th>\n",
       "      <td>31</td>\n",
       "      <td>8</td>\n",
       "      <td>1</td>\n",
       "      <td>5</td>\n",
       "      <td>1</td>\n",
       "      <td>3</td>\n",
       "      <td>1</td>\n",
       "      <td>1</td>\n",
       "      <td>1.0</td>\n",
       "      <td>1</td>\n",
       "      <td>...</td>\n",
       "      <td>0.038056</td>\n",
       "      <td>0.0</td>\n",
       "      <td>0</td>\n",
       "      <td>0.055000</td>\n",
       "      <td>1.5</td>\n",
       "      <td>0.14</td>\n",
       "      <td>0.0</td>\n",
       "      <td>0.075758</td>\n",
       "      <td>0.14</td>\n",
       "      <td>0.139167</td>\n",
       "    </tr>\n",
       "    <tr>\n",
       "      <th>4</th>\n",
       "      <td>97</td>\n",
       "      <td>19</td>\n",
       "      <td>3</td>\n",
       "      <td>1</td>\n",
       "      <td>3</td>\n",
       "      <td>3</td>\n",
       "      <td>1</td>\n",
       "      <td>5</td>\n",
       "      <td>0.0</td>\n",
       "      <td>1</td>\n",
       "      <td>...</td>\n",
       "      <td>0.038333</td>\n",
       "      <td>0.2</td>\n",
       "      <td>2</td>\n",
       "      <td>0.716111</td>\n",
       "      <td>0.0</td>\n",
       "      <td>2.58</td>\n",
       "      <td>0.0</td>\n",
       "      <td>0.499612</td>\n",
       "      <td>2.58</td>\n",
       "      <td>0.878056</td>\n",
       "    </tr>\n",
       "  </tbody>\n",
       "</table>\n",
       "<p>5 rows × 34 columns</p>\n",
       "</div>"
      ],
      "text/plain": [
       "   trip_id  household_id  person_n  trip_n  travel_mode  purpose  fueltype  \\\n",
       "0        9             0         2       3            4        3         1   \n",
       "1       11             1         0       1            4        3         1   \n",
       "2       20             5         1       0            4        3         1   \n",
       "3       31             8         1       5            1        3         1   \n",
       "4       97            19         3       1            3        3         1   \n",
       "\n",
       "   faretype  bus_scale  survey_year  ...  dur_pt_bus  dur_pt_int  \\\n",
       "0         3        0.0            1  ...    0.221111         0.0   \n",
       "1         5        0.0            1  ...    0.122222         0.0   \n",
       "2         5        0.0            1  ...    0.062222         0.0   \n",
       "3         1        1.0            1  ...    0.038056         0.0   \n",
       "4         5        0.0            1  ...    0.038333         0.2   \n",
       "\n",
       "   pt_interchanges  dur_driving  cost_transit  cost_driving_fuel  \\\n",
       "0                0     0.222222           0.0               0.77   \n",
       "1                0     0.132222           0.0               0.50   \n",
       "2                0     0.117222           0.0               0.41   \n",
       "3                0     0.055000           1.5               0.14   \n",
       "4                2     0.716111           0.0               2.58   \n",
       "\n",
       "   cost_driving_ccharge  driving_traffic_percent  cost_driving    dur_pt  \n",
       "0                   0.0                 0.097500          0.77  0.426667  \n",
       "1                   0.0                 0.065126          0.50  0.363611  \n",
       "2                   0.0                 0.097156          0.41  0.443889  \n",
       "3                   0.0                 0.075758          0.14  0.139167  \n",
       "4                   0.0                 0.499612          2.58  0.878056  \n",
       "\n",
       "[5 rows x 34 columns]"
      ]
     },
     "execution_count": 7,
     "metadata": {},
     "output_type": "execute_result"
    }
   ],
   "source": [
    "# Read the data\n",
    "# Read the data\n",
    "df = pd.read_csv('lpmc07.dat', sep='\\t')\n",
    "\n",
    "# add a new column to original pandas data frame; this is to be used when computing elasticities\n",
    "df['cost_driving'] = df['cost_driving_fuel'] + df['cost_driving_ccharge']\n",
    "df['dur_pt'] = df['dur_pt_access'] + df['dur_pt_rail']+df['dur_pt_bus']+ df['dur_pt_int']\n",
    "\n",
    "df.head()"
   ]
  },
  {
   "cell_type": "code",
   "execution_count": 8,
   "id": "3c68d321-36c9-48e4-addf-6a51d1085c24",
   "metadata": {},
   "outputs": [],
   "source": [
    "database = db.Database('lpmc07', df)"
   ]
  },
  {
   "cell_type": "markdown",
   "id": "67c095c7-4d77-40d2-a931-a4b2bb023c5e",
   "metadata": {},
   "source": [
    "Defining the useful variables"
   ]
  },
  {
   "cell_type": "code",
   "execution_count": 9,
   "id": "a6185730-150f-42fa-82f7-cf5e83a510bf",
   "metadata": {},
   "outputs": [],
   "source": [
    "#time variables\n",
    "dur_walking = Variable('dur_walking')\n",
    "\n",
    "dur_cycling = Variable('dur_cycling')\n",
    "\n",
    "dur_driving = Variable('dur_driving')\n",
    "\n",
    "dur_pt_access = Variable('dur_pt_access')\n",
    "dur_pt_rail = Variable('dur_pt_rail')\n",
    "dur_pt_bus = Variable('dur_pt_bus')\n",
    "dur_pt_int = Variable('dur_pt_int')\n",
    "\n",
    "#cost variables\n",
    "cost_transit = Variable('cost_transit')\n",
    "cost_driving_fuel = Variable('cost_driving_fuel')\n",
    "cost_driving_ccharge = Variable('cost_driving_ccharge')\n",
    "\n",
    "#choice\n",
    "travel_mode = Variable('travel_mode')\n",
    "\n",
    "#driving availability\n",
    "driving_license = Variable('driving_license') \n",
    "car_ownership = Variable('car_ownership')\n",
    "\n",
    "#female\n",
    "female = Variable('female')\n",
    "\n",
    "age = Variable('age')\n",
    "\n",
    "#pt interchange\n",
    "pt_interchanges = Variable('pt_interchanges')\n",
    "\n",
    "driving_traffic_percent = Variable('driving_traffic_percent')\n",
    "\n",
    "distance = Variable('distance')\n",
    "\n",
    "trip_id = Variable('trip_id')\n",
    "\n",
    "dur_pt = Variable('dur_pt')\n",
    "cost_driving = Variable('cost_driving')"
   ]
  },
  {
   "cell_type": "code",
   "execution_count": 10,
   "id": "a6f74fdb-e284-41ae-a9cc-486883c32a7c",
   "metadata": {},
   "outputs": [],
   "source": [
    "#dur_pt = dur_pt_access + dur_pt_rail + dur_pt_bus + dur_pt_int\n",
    "#cost_driving = cost_driving_fuel + cost_driving_ccharge"
   ]
  },
  {
   "cell_type": "code",
   "execution_count": null,
   "id": "9ecf13b0-ded7-40b6-b668-ffb88fba1c01",
   "metadata": {},
   "outputs": [],
   "source": []
  },
  {
   "cell_type": "markdown",
   "id": "88c5d70d-087d-4734-81d1-3825ffbd7fa6",
   "metadata": {
    "tags": []
   },
   "source": [
    "# model 0"
   ]
  },
  {
   "cell_type": "code",
   "execution_count": 6,
   "id": "31794af5-9f0b-4937-9178-aca5b5374729",
   "metadata": {},
   "outputs": [],
   "source": [
    "asc_cycle = Beta('asc_cycle', 0, None, None, 0)\n",
    "asc_pt = Beta('asc_pt', 0, None, None, 0)\n",
    "asc_driving = Beta('asc_driving', 0, None, None, 0)\n",
    "\n",
    "beta_cost = Beta('beta_cost', 0, None, None, 0)\n",
    "beta_time = Beta('beta_time', 0, None, None, 0)"
   ]
  },
  {
   "cell_type": "code",
   "execution_count": 7,
   "id": "7a650935-0e61-4caa-825d-0b7ea6929e5d",
   "metadata": {},
   "outputs": [],
   "source": [
    "Opt0_walk = (\n",
    "    beta_time*dur_walking\n",
    ")\n",
    "Opt0_cycle = (\n",
    "    asc_cycle + beta_time*dur_cycling\n",
    ")\n",
    "Opt0_pt = (\n",
    "    asc_pt + beta_time*dur_pt + beta_cost*cost_transit\n",
    ")\n",
    "Opt0_driv = (\n",
    "    asc_driving + beta_time*dur_driving + beta_cost*cost_driving\n",
    ")"
   ]
  },
  {
   "cell_type": "code",
   "execution_count": 8,
   "id": "cb9da1e4-34fb-46ba-ad57-92a4bee0408e",
   "metadata": {},
   "outputs": [
    {
     "name": "stdout",
     "output_type": "stream",
     "text": [
      "car_ownership\n"
     ]
    }
   ],
   "source": [
    "print('car_ownership')"
   ]
  },
  {
   "cell_type": "code",
   "execution_count": 9,
   "id": "0b60de45-ddd9-4208-9954-2cdb5cf68adc",
   "metadata": {},
   "outputs": [],
   "source": [
    "V0 = {1: Opt0_walk, 2: Opt0_cycle, 3: Opt0_pt, 4: Opt0_driv}\n"
   ]
  },
  {
   "cell_type": "code",
   "execution_count": 10,
   "id": "3fea1071-294e-4a84-bf5c-738df458c89b",
   "metadata": {},
   "outputs": [],
   "source": [
    "logprob0 = models.loglogit(V0, None, travel_mode) "
   ]
  },
  {
   "cell_type": "code",
   "execution_count": 11,
   "id": "4ec87528-9f44-4e26-998e-e536de607455",
   "metadata": {},
   "outputs": [],
   "source": [
    "biogeme0 = bio.BIOGEME(database, logprob0)\n",
    "biogeme0.modelName = 'logit_lpmc07_base'"
   ]
  },
  {
   "cell_type": "code",
   "execution_count": 12,
   "id": "12774a05-5cee-411d-ab1f-63cf9f55500e",
   "metadata": {},
   "outputs": [
    {
     "name": "stdout",
     "output_type": "stream",
     "text": [
      "[11:15:06] < Warning >   Cannot read file __logit_lpmc07_base.iter. Statement is ignored.\n"
     ]
    }
   ],
   "source": [
    "results0 = biogeme0.estimate()"
   ]
  },
  {
   "cell_type": "code",
   "execution_count": 13,
   "id": "0e9f3b97-e3a1-4809-a59a-0e8286255ef3",
   "metadata": {},
   "outputs": [
    {
     "name": "stdout",
     "output_type": "stream",
     "text": [
      "Number of estimated parameters:\t5\n",
      "Sample size:\t5000\n",
      "Excluded observations:\t0\n",
      "Init log likelihood:\t-6931.472\n",
      "Final log likelihood:\t-4668.764\n",
      "Likelihood ratio test for the init. model:\t4525.416\n",
      "Rho-square for the init. model:\t0.326\n",
      "Rho-square-bar for the init. model:\t0.326\n",
      "Akaike Information Criterion:\t9347.528\n",
      "Bayesian Information Criterion:\t9380.114\n",
      "Final gradient norm:\t7.3760E-04\n",
      "Nbr of threads:\t16\n",
      "\n"
     ]
    }
   ],
   "source": [
    "print(results0.printGeneralStatistics())"
   ]
  },
  {
   "cell_type": "code",
   "execution_count": 14,
   "id": "f1f81da7-d28c-4f6a-93ab-04e0e745bd3f",
   "metadata": {},
   "outputs": [
    {
     "data": {
      "text/html": [
       "<div>\n",
       "<style scoped>\n",
       "    .dataframe tbody tr th:only-of-type {\n",
       "        vertical-align: middle;\n",
       "    }\n",
       "\n",
       "    .dataframe tbody tr th {\n",
       "        vertical-align: top;\n",
       "    }\n",
       "\n",
       "    .dataframe thead th {\n",
       "        text-align: right;\n",
       "    }\n",
       "</style>\n",
       "<table border=\"1\" class=\"dataframe\">\n",
       "  <thead>\n",
       "    <tr style=\"text-align: right;\">\n",
       "      <th></th>\n",
       "      <th>Value</th>\n",
       "      <th>Rob. Std err</th>\n",
       "      <th>Rob. t-test</th>\n",
       "      <th>Rob. p-value</th>\n",
       "    </tr>\n",
       "  </thead>\n",
       "  <tbody>\n",
       "    <tr>\n",
       "      <th>asc_cycle</th>\n",
       "      <td>-3.671670</td>\n",
       "      <td>0.107304</td>\n",
       "      <td>-34.217362</td>\n",
       "      <td>0.000000e+00</td>\n",
       "    </tr>\n",
       "    <tr>\n",
       "      <th>asc_driving</th>\n",
       "      <td>-1.104164</td>\n",
       "      <td>0.083172</td>\n",
       "      <td>-13.275731</td>\n",
       "      <td>0.000000e+00</td>\n",
       "    </tr>\n",
       "    <tr>\n",
       "      <th>asc_pt</th>\n",
       "      <td>-0.427631</td>\n",
       "      <td>0.055869</td>\n",
       "      <td>-7.654184</td>\n",
       "      <td>1.953993e-14</td>\n",
       "    </tr>\n",
       "    <tr>\n",
       "      <th>beta_cost</th>\n",
       "      <td>-0.151331</td>\n",
       "      <td>0.013355</td>\n",
       "      <td>-11.331599</td>\n",
       "      <td>0.000000e+00</td>\n",
       "    </tr>\n",
       "    <tr>\n",
       "      <th>beta_time</th>\n",
       "      <td>-5.129646</td>\n",
       "      <td>0.210478</td>\n",
       "      <td>-24.371452</td>\n",
       "      <td>0.000000e+00</td>\n",
       "    </tr>\n",
       "  </tbody>\n",
       "</table>\n",
       "</div>"
      ],
      "text/plain": [
       "                Value  Rob. Std err  Rob. t-test  Rob. p-value\n",
       "asc_cycle   -3.671670      0.107304   -34.217362  0.000000e+00\n",
       "asc_driving -1.104164      0.083172   -13.275731  0.000000e+00\n",
       "asc_pt      -0.427631      0.055869    -7.654184  1.953993e-14\n",
       "beta_cost   -0.151331      0.013355   -11.331599  0.000000e+00\n",
       "beta_time   -5.129646      0.210478   -24.371452  0.000000e+00"
      ]
     },
     "execution_count": 14,
     "metadata": {},
     "output_type": "execute_result"
    }
   ],
   "source": [
    "results0.getEstimatedParameters()"
   ]
  },
  {
   "cell_type": "markdown",
   "id": "e042ecb7-9fc0-44a5-a191-d2a9d92a8b7c",
   "metadata": {
    "tags": []
   },
   "source": [
    "# model 1\n",
    "(we chose time)"
   ]
  },
  {
   "cell_type": "code",
   "execution_count": 11,
   "id": "5137463c-484b-4b9a-9d04-d831dfdd8625",
   "metadata": {},
   "outputs": [],
   "source": [
    "asc_cycle1 = Beta('asc_cycle1', 0, None, None, 0)\n",
    "asc_pt1 = Beta('asc_pt1', 0, None, None, 0)\n",
    "asc_driving1 = Beta('asc_driving1', 0, None, None, 0)\n",
    "\n",
    "beta_cost1 = Beta('beta_cost1', 0, None, None, 0)\n",
    "beta_time_walk1 = Beta('beta_time_walk1', 0, None, None, 0)\n",
    "beta_time_cycl1 = Beta('beta_time_cycl1', 0, None, None, 0)\n",
    "beta_time_pt1 = Beta('beta_time_pt1', 0, None, None, 0)\n",
    "beta_time_driv1 = Beta('beta_time_driv1', 0, None, None, 0)"
   ]
  },
  {
   "cell_type": "code",
   "execution_count": 12,
   "id": "6baad9c5-9f2f-429d-80ac-ee20f0affb61",
   "metadata": {},
   "outputs": [],
   "source": [
    "Opt1_walk = (\n",
    "    beta_time_walk1*dur_walking\n",
    ")\n",
    "Opt1_cycle = (\n",
    "    asc_cycle1 + beta_time_cycl1*dur_cycling\n",
    ")\n",
    "Opt1_pt = (\n",
    "    asc_pt1 + beta_time_pt1*dur_pt + beta_cost1*cost_transit\n",
    ")\n",
    "Opt1_driv = (\n",
    "    asc_driving1 + beta_time_driv1*dur_driving + beta_cost1*cost_driving\n",
    ")"
   ]
  },
  {
   "cell_type": "code",
   "execution_count": 13,
   "id": "a5999d23-a562-438c-add5-2dd9c3c61964",
   "metadata": {},
   "outputs": [],
   "source": [
    "V1 = {1: Opt1_walk, 2: Opt1_cycle, 3: Opt1_pt, 4: Opt1_driv}"
   ]
  },
  {
   "cell_type": "code",
   "execution_count": 14,
   "id": "e0ce0634-faca-4458-9519-697f80364799",
   "metadata": {},
   "outputs": [],
   "source": [
    "logprob1 = models.loglogit(V1, None, travel_mode) "
   ]
  },
  {
   "cell_type": "code",
   "execution_count": 15,
   "id": "b5fe824f-fb7f-40c8-9fa1-ca79ac362a5c",
   "metadata": {},
   "outputs": [],
   "source": [
    "biogeme1 = bio.BIOGEME(database, logprob1)\n",
    "biogeme1.modelName = 'logit_lpmc07_as'"
   ]
  },
  {
   "cell_type": "code",
   "execution_count": 16,
   "id": "ac557527-f151-4b33-94a2-2fb052602aaf",
   "metadata": {},
   "outputs": [
    {
     "name": "stdout",
     "output_type": "stream",
     "text": [
      "[10:59:27] < Warning >   Cannot read file __logit_lpmc07_as.iter. Statement is ignored.\n"
     ]
    }
   ],
   "source": [
    "results1 = biogeme1.estimate()"
   ]
  },
  {
   "cell_type": "code",
   "execution_count": 17,
   "id": "7d2d59cc-08f2-4b45-85e9-11a5e95155ea",
   "metadata": {},
   "outputs": [
    {
     "name": "stdout",
     "output_type": "stream",
     "text": [
      "Number of estimated parameters:\t8\n",
      "Sample size:\t5000\n",
      "Excluded observations:\t0\n",
      "Init log likelihood:\t-6931.472\n",
      "Final log likelihood:\t-4361.567\n",
      "Likelihood ratio test for the init. model:\t5139.809\n",
      "Rho-square for the init. model:\t0.371\n",
      "Rho-square-bar for the init. model:\t0.37\n",
      "Akaike Information Criterion:\t8739.134\n",
      "Bayesian Information Criterion:\t8791.272\n",
      "Final gradient norm:\t8.3271E-03\n",
      "Nbr of threads:\t16\n",
      "\n"
     ]
    }
   ],
   "source": [
    "print(results1.printGeneralStatistics())"
   ]
  },
  {
   "cell_type": "code",
   "execution_count": 22,
   "id": "06616a52-752b-4248-ba22-d5c76f0515a3",
   "metadata": {},
   "outputs": [
    {
     "data": {
      "text/html": [
       "<div>\n",
       "<style scoped>\n",
       "    .dataframe tbody tr th:only-of-type {\n",
       "        vertical-align: middle;\n",
       "    }\n",
       "\n",
       "    .dataframe tbody tr th {\n",
       "        vertical-align: top;\n",
       "    }\n",
       "\n",
       "    .dataframe thead th {\n",
       "        text-align: right;\n",
       "    }\n",
       "</style>\n",
       "<table border=\"1\" class=\"dataframe\">\n",
       "  <thead>\n",
       "    <tr style=\"text-align: right;\">\n",
       "      <th></th>\n",
       "      <th>Value</th>\n",
       "      <th>Rob. Std err</th>\n",
       "      <th>Rob. t-test</th>\n",
       "      <th>Rob. p-value</th>\n",
       "    </tr>\n",
       "  </thead>\n",
       "  <tbody>\n",
       "    <tr>\n",
       "      <th>asc_cycle1</th>\n",
       "      <td>-4.743495</td>\n",
       "      <td>0.210609</td>\n",
       "      <td>-22.522778</td>\n",
       "      <td>0.0</td>\n",
       "    </tr>\n",
       "    <tr>\n",
       "      <th>asc_driving1</th>\n",
       "      <td>-1.865705</td>\n",
       "      <td>0.157256</td>\n",
       "      <td>-11.864122</td>\n",
       "      <td>0.0</td>\n",
       "    </tr>\n",
       "    <tr>\n",
       "      <th>asc_pt1</th>\n",
       "      <td>-2.311875</td>\n",
       "      <td>0.157262</td>\n",
       "      <td>-14.700747</td>\n",
       "      <td>0.0</td>\n",
       "    </tr>\n",
       "    <tr>\n",
       "      <th>beta_cost1</th>\n",
       "      <td>-0.131324</td>\n",
       "      <td>0.014362</td>\n",
       "      <td>-9.144126</td>\n",
       "      <td>0.0</td>\n",
       "    </tr>\n",
       "    <tr>\n",
       "      <th>beta_time_cycl1</th>\n",
       "      <td>-4.880140</td>\n",
       "      <td>0.424974</td>\n",
       "      <td>-11.483382</td>\n",
       "      <td>0.0</td>\n",
       "    </tr>\n",
       "    <tr>\n",
       "      <th>beta_time_driv1</th>\n",
       "      <td>-6.113741</td>\n",
       "      <td>0.373771</td>\n",
       "      <td>-16.356896</td>\n",
       "      <td>0.0</td>\n",
       "    </tr>\n",
       "    <tr>\n",
       "      <th>beta_time_pt1</th>\n",
       "      <td>-3.270473</td>\n",
       "      <td>0.239894</td>\n",
       "      <td>-13.632966</td>\n",
       "      <td>0.0</td>\n",
       "    </tr>\n",
       "    <tr>\n",
       "      <th>beta_time_walk1</th>\n",
       "      <td>-8.208049</td>\n",
       "      <td>0.479568</td>\n",
       "      <td>-17.115501</td>\n",
       "      <td>0.0</td>\n",
       "    </tr>\n",
       "  </tbody>\n",
       "</table>\n",
       "</div>"
      ],
      "text/plain": [
       "                    Value  Rob. Std err  Rob. t-test  Rob. p-value\n",
       "asc_cycle1      -4.743495      0.210609   -22.522778           0.0\n",
       "asc_driving1    -1.865705      0.157256   -11.864122           0.0\n",
       "asc_pt1         -2.311875      0.157262   -14.700747           0.0\n",
       "beta_cost1      -0.131324      0.014362    -9.144126           0.0\n",
       "beta_time_cycl1 -4.880140      0.424974   -11.483382           0.0\n",
       "beta_time_driv1 -6.113741      0.373771   -16.356896           0.0\n",
       "beta_time_pt1   -3.270473      0.239894   -13.632966           0.0\n",
       "beta_time_walk1 -8.208049      0.479568   -17.115501           0.0"
      ]
     },
     "execution_count": 22,
     "metadata": {},
     "output_type": "execute_result"
    }
   ],
   "source": [
    "results1.getEstimatedParameters()"
   ]
  },
  {
   "cell_type": "markdown",
   "id": "4a0be9bb-34e0-4f7a-9977-81a53e4a3665",
   "metadata": {},
   "source": [
    "Comparison between model 1 and model 0 performing a likelihood ratio test because model 1 is a restricted version of model 0. H0 is \"model 0 is the true model\"."
   ]
  },
  {
   "cell_type": "code",
   "execution_count": 23,
   "id": "90459471-59b4-43c0-b15d-0a7866b625bb",
   "metadata": {},
   "outputs": [
    {
     "data": {
      "text/plain": [
       "614.39387600593"
      ]
     },
     "execution_count": 23,
     "metadata": {},
     "output_type": "execute_result"
    }
   ],
   "source": [
    "general_statistics0 = results0.getGeneralStatistics()\n",
    "general_statistics1 = results1.getGeneralStatistics()\n",
    "LR = general_statistics0['Final log likelihood'].value\n",
    "LU = general_statistics1['Final log likelihood'].value\n",
    "test = -2 * (LR - LU)\n",
    "test"
   ]
  },
  {
   "cell_type": "code",
   "execution_count": 24,
   "id": "09c80e18-0c9a-4178-8d97-aa7db0bc87cb",
   "metadata": {},
   "outputs": [
    {
     "data": {
      "text/plain": [
       "3"
      ]
     },
     "execution_count": 24,
     "metadata": {},
     "output_type": "execute_result"
    }
   ],
   "source": [
    "KR = general_statistics0['Number of estimated parameters'].value\n",
    "KU = general_statistics1['Number of estimated parameters'].value\n",
    "degrees_of_freedom = KU - KR\n",
    "degrees_of_freedom"
   ]
  },
  {
   "cell_type": "code",
   "execution_count": 25,
   "id": "be3ef075-81c3-43c1-aea5-4ff03767ed94",
   "metadata": {},
   "outputs": [
    {
     "data": {
      "text/plain": [
       "7.814727903251179"
      ]
     },
     "execution_count": 25,
     "metadata": {},
     "output_type": "execute_result"
    }
   ],
   "source": [
    "from scipy.stats import chi2\n",
    "threshold = chi2.ppf(.95, degrees_of_freedom)\n",
    "threshold"
   ]
  },
  {
   "cell_type": "code",
   "execution_count": 26,
   "id": "6c9c1120-0037-4149-8d0e-ef308d0bf6a4",
   "metadata": {},
   "outputs": [
    {
     "data": {
      "text/plain": [
       "LRTuple(message='H0 can be rejected at level 5.0%', statistic=614.39387600593, threshold=7.814727903251179)"
      ]
     },
     "execution_count": 26,
     "metadata": {},
     "output_type": "execute_result"
    }
   ],
   "source": [
    "results1.likelihood_ratio_test(results0, 0.05)"
   ]
  },
  {
   "cell_type": "markdown",
   "id": "e06a56c0-2ddb-412a-9a3c-81035a31c09b",
   "metadata": {},
   "source": [
    "model 1 is (way) better "
   ]
  },
  {
   "cell_type": "code",
   "execution_count": null,
   "id": "cfc976bc-534a-4016-ac88-2ff1879651a1",
   "metadata": {},
   "outputs": [],
   "source": []
  },
  {
   "cell_type": "markdown",
   "id": "623d80d1-ccbb-4ee8-b507-75e6ba89b69e",
   "metadata": {
    "tags": []
   },
   "source": [
    "# model 2"
   ]
  },
  {
   "cell_type": "code",
   "execution_count": 27,
   "id": "4bf10fac-1e75-40d8-bfc3-5695e6713612",
   "metadata": {},
   "outputs": [],
   "source": [
    "asc_cycle2 = Beta('asc_cycle2', 0, None, None, 0)\n",
    "asc_pt2 = Beta('asc_pt2', 0, None, None, 0)\n",
    "asc_driving2 = Beta('asc_driving2', 0, None, None, 0)\n",
    "\n",
    "#beta_pt_interchanges2 = Beta('pt_interchanges2',0, None, None, 0)\n",
    "\n",
    "\n",
    "\n",
    "#age_0_25 = 0 < age <=100\n",
    "#age_25_50 = 102 < age <= 103\n",
    "#age_50_100 = 103 < age <= 105\n",
    "\n",
    "#beta_cost_0_25 = Beta('beta_cost_0_25', 0, None, None, 0)\n",
    "#beta_cost_25_50 = Beta('beta_cost_25_50', 0, None, None, 0)\n",
    "#beta_cost_50_100 = Beta('beta_cost_50_100',0,None,None, 0)\n",
    "\n",
    "#betas_piecewise = [beta_cost_0_25, beta_cost_25_50, beta_cost_50_100]\n",
    "\n",
    "#cost_driving = df['cost_driving_ccharge'] + df['cost_driving_fuel']\n",
    "#df['cost_driving'] = cost_driving\n",
    "\n",
    "#cost_driving = Variable('cost_driving')\n",
    "\n",
    "#piecewise_age = ((beta_cost_0_25*age_0_25)+(beta_cost_25_50*age_25_50)+(beta_cost_50_100*age_50_100))\n",
    "\n",
    "#thresholds = [0, 20,50,60]\n",
    "\n",
    "#thresholds = [0,18,60,None]\n",
    "\n",
    "thresholds = [0,18,65,None]\n",
    "\n",
    "beta_cost_youngold = Beta('beta_cost_youngold', 0, None, None, 0)\n",
    "beta_cost_middleage = Beta('beta_cost_middleage', 0, None, None, 0)\n",
    "#beta_cost_50_100 = Beta('beta_cost_50_100',0,None,None,0)\n",
    "\n",
    "betas_piecewise = [beta_cost_youngold, beta_cost_middleage, beta_cost_youngold]\n",
    "\n",
    "\n",
    "piecewise_age = models.piecewiseFormula(\n",
    "    'age', thresholds, betas_piecewise\n",
    ")\n",
    "\n",
    "beta_traffic = Beta('beta_traffic',0,None,None,0)\n",
    "\n",
    "\n",
    "\n",
    "beta_time_walk2 = Beta('beta_time_walk2', 0, None, None, 0)\n",
    "beta_time_cycl2 = Beta('beta_time_cycl2', 0, None, None, 0)\n",
    "beta_time_pt2 = Beta('beta_time_pt2', 0, None, None, 0)\n",
    "beta_time_driv2 = Beta('beta_time_driv2', 0, None, None, 0)"
   ]
  },
  {
   "cell_type": "code",
   "execution_count": 28,
   "id": "ba99f6b3-e7b7-4dac-a681-d42055497d76",
   "metadata": {},
   "outputs": [],
   "source": [
    "Opt2_walk = (\n",
    "    beta_time_walk2*dur_walking\n",
    ")\n",
    "Opt2_cycle = (\n",
    "    asc_cycle2 + beta_time_cycl2*dur_cycling\n",
    ")\n",
    "Opt2_pt = (\n",
    "    asc_pt2 + beta_time_pt2*dur_pt + piecewise_age*cost_transit/age \n",
    ")\n",
    "Opt2_driv = (\n",
    "    asc_driving2 + beta_time_driv2*dur_driving + piecewise_age*cost_driving/age + beta_traffic*driving_traffic_percent\n",
    ")"
   ]
  },
  {
   "cell_type": "code",
   "execution_count": 29,
   "id": "9bfb706c-353a-48f0-86a9-22cca3c7add6",
   "metadata": {},
   "outputs": [],
   "source": [
    "V2 = {1: Opt2_walk, 2: Opt2_cycle, 3: Opt2_pt, 4: Opt2_driv}"
   ]
  },
  {
   "cell_type": "code",
   "execution_count": 30,
   "id": "440f2a44-3845-4dde-8e62-7bc316c0cb09",
   "metadata": {},
   "outputs": [],
   "source": [
    "logprob2 = models.loglogit(V2, None, travel_mode) "
   ]
  },
  {
   "cell_type": "code",
   "execution_count": 31,
   "id": "6857ec1c-c35e-4414-b34b-3535d3fe3a7a",
   "metadata": {},
   "outputs": [],
   "source": [
    "biogeme2 = bio.BIOGEME(database, logprob2)\n",
    "biogeme2.modelName = 'logit_lpmc07_2'"
   ]
  },
  {
   "cell_type": "code",
   "execution_count": 32,
   "id": "de0668ee-15d7-4c43-8252-7eb902598277",
   "metadata": {},
   "outputs": [
    {
     "name": "stdout",
     "output_type": "stream",
     "text": [
      "[11:15:11] < Warning >   Cannot read file __logit_lpmc07_2.iter. Statement is ignored.\n"
     ]
    }
   ],
   "source": [
    "results2 = biogeme2.estimate()"
   ]
  },
  {
   "cell_type": "code",
   "execution_count": 33,
   "id": "33eaf85a-5547-4ad1-8a7f-00db29bfa11f",
   "metadata": {},
   "outputs": [
    {
     "name": "stdout",
     "output_type": "stream",
     "text": [
      "Number of estimated parameters:\t10\n",
      "Sample size:\t5000\n",
      "Excluded observations:\t0\n",
      "Init log likelihood:\t-6931.472\n",
      "Final log likelihood:\t-4272.921\n",
      "Likelihood ratio test for the init. model:\t5317.101\n",
      "Rho-square for the init. model:\t0.384\n",
      "Rho-square-bar for the init. model:\t0.382\n",
      "Akaike Information Criterion:\t8565.843\n",
      "Bayesian Information Criterion:\t8631.015\n",
      "Final gradient norm:\t1.6733E-02\n",
      "Nbr of threads:\t16\n",
      "\n"
     ]
    }
   ],
   "source": [
    "print(results2.printGeneralStatistics())"
   ]
  },
  {
   "cell_type": "code",
   "execution_count": 34,
   "id": "84aa58da-f6ed-42f6-b86b-adf063914086",
   "metadata": {},
   "outputs": [
    {
     "data": {
      "text/html": [
       "<div>\n",
       "<style scoped>\n",
       "    .dataframe tbody tr th:only-of-type {\n",
       "        vertical-align: middle;\n",
       "    }\n",
       "\n",
       "    .dataframe tbody tr th {\n",
       "        vertical-align: top;\n",
       "    }\n",
       "\n",
       "    .dataframe thead th {\n",
       "        text-align: right;\n",
       "    }\n",
       "</style>\n",
       "<table border=\"1\" class=\"dataframe\">\n",
       "  <thead>\n",
       "    <tr style=\"text-align: right;\">\n",
       "      <th></th>\n",
       "      <th>Value</th>\n",
       "      <th>Rob. Std err</th>\n",
       "      <th>Rob. t-test</th>\n",
       "      <th>Rob. p-value</th>\n",
       "    </tr>\n",
       "  </thead>\n",
       "  <tbody>\n",
       "    <tr>\n",
       "      <th>asc_cycle2</th>\n",
       "      <td>-4.769377</td>\n",
       "      <td>0.213384</td>\n",
       "      <td>-22.351194</td>\n",
       "      <td>0.000000</td>\n",
       "    </tr>\n",
       "    <tr>\n",
       "      <th>asc_driving2</th>\n",
       "      <td>-1.357151</td>\n",
       "      <td>0.161688</td>\n",
       "      <td>-8.393631</td>\n",
       "      <td>0.000000</td>\n",
       "    </tr>\n",
       "    <tr>\n",
       "      <th>asc_pt2</th>\n",
       "      <td>-2.469546</td>\n",
       "      <td>0.161118</td>\n",
       "      <td>-15.327582</td>\n",
       "      <td>0.000000</td>\n",
       "    </tr>\n",
       "    <tr>\n",
       "      <th>beta_cost_middleage</th>\n",
       "      <td>-0.080101</td>\n",
       "      <td>0.047630</td>\n",
       "      <td>-1.681746</td>\n",
       "      <td>0.092618</td>\n",
       "    </tr>\n",
       "    <tr>\n",
       "      <th>beta_cost_youngold</th>\n",
       "      <td>-0.102830</td>\n",
       "      <td>0.037603</td>\n",
       "      <td>-2.734643</td>\n",
       "      <td>0.006245</td>\n",
       "    </tr>\n",
       "    <tr>\n",
       "      <th>beta_time_cycl2</th>\n",
       "      <td>-4.291779</td>\n",
       "      <td>0.422903</td>\n",
       "      <td>-10.148372</td>\n",
       "      <td>0.000000</td>\n",
       "    </tr>\n",
       "    <tr>\n",
       "      <th>beta_time_driv2</th>\n",
       "      <td>-4.109835</td>\n",
       "      <td>0.374498</td>\n",
       "      <td>-10.974263</td>\n",
       "      <td>0.000000</td>\n",
       "    </tr>\n",
       "    <tr>\n",
       "      <th>beta_time_pt2</th>\n",
       "      <td>-2.686530</td>\n",
       "      <td>0.234331</td>\n",
       "      <td>-11.464694</td>\n",
       "      <td>0.000000</td>\n",
       "    </tr>\n",
       "    <tr>\n",
       "      <th>beta_time_walk2</th>\n",
       "      <td>-8.062313</td>\n",
       "      <td>0.478669</td>\n",
       "      <td>-16.843198</td>\n",
       "      <td>0.000000</td>\n",
       "    </tr>\n",
       "    <tr>\n",
       "      <th>beta_traffic</th>\n",
       "      <td>-2.858280</td>\n",
       "      <td>0.229074</td>\n",
       "      <td>-12.477522</td>\n",
       "      <td>0.000000</td>\n",
       "    </tr>\n",
       "  </tbody>\n",
       "</table>\n",
       "</div>"
      ],
      "text/plain": [
       "                        Value  Rob. Std err  Rob. t-test  Rob. p-value\n",
       "asc_cycle2          -4.769377      0.213384   -22.351194      0.000000\n",
       "asc_driving2        -1.357151      0.161688    -8.393631      0.000000\n",
       "asc_pt2             -2.469546      0.161118   -15.327582      0.000000\n",
       "beta_cost_middleage -0.080101      0.047630    -1.681746      0.092618\n",
       "beta_cost_youngold  -0.102830      0.037603    -2.734643      0.006245\n",
       "beta_time_cycl2     -4.291779      0.422903   -10.148372      0.000000\n",
       "beta_time_driv2     -4.109835      0.374498   -10.974263      0.000000\n",
       "beta_time_pt2       -2.686530      0.234331   -11.464694      0.000000\n",
       "beta_time_walk2     -8.062313      0.478669   -16.843198      0.000000\n",
       "beta_traffic        -2.858280      0.229074   -12.477522      0.000000"
      ]
     },
     "execution_count": 34,
     "metadata": {},
     "output_type": "execute_result"
    }
   ],
   "source": [
    "results2.getEstimatedParameters()"
   ]
  },
  {
   "cell_type": "markdown",
   "id": "419fef4d-0f59-4f06-917c-bedf29e96cd1",
   "metadata": {},
   "source": [
    "we perform ll ratio"
   ]
  },
  {
   "cell_type": "code",
   "execution_count": 35,
   "id": "560f9b32-247b-4cbf-ae99-6265b68209d9",
   "metadata": {},
   "outputs": [
    {
     "data": {
      "text/plain": [
       "177.29153031231726"
      ]
     },
     "execution_count": 35,
     "metadata": {},
     "output_type": "execute_result"
    }
   ],
   "source": [
    "general_statistics1 = results1.getGeneralStatistics()\n",
    "general_statistics2 = results2.getGeneralStatistics()\n",
    "LR = general_statistics1['Final log likelihood'].value\n",
    "LU = general_statistics2['Final log likelihood'].value\n",
    "test = -2 * (LR - LU)\n",
    "test"
   ]
  },
  {
   "cell_type": "code",
   "execution_count": 36,
   "id": "39d60f4c-6830-444f-ac41-6c45ca78c801",
   "metadata": {},
   "outputs": [
    {
     "data": {
      "text/plain": [
       "2"
      ]
     },
     "execution_count": 36,
     "metadata": {},
     "output_type": "execute_result"
    }
   ],
   "source": [
    "KR = general_statistics1['Number of estimated parameters'].value\n",
    "KU = general_statistics2['Number of estimated parameters'].value\n",
    "degrees_of_freedom = KU - KR\n",
    "degrees_of_freedom"
   ]
  },
  {
   "cell_type": "code",
   "execution_count": 37,
   "id": "5b30d2a3-be89-45eb-b885-5f9b96f6ee35",
   "metadata": {},
   "outputs": [
    {
     "data": {
      "text/plain": [
       "5.991464547107979"
      ]
     },
     "execution_count": 37,
     "metadata": {},
     "output_type": "execute_result"
    }
   ],
   "source": [
    "threshold = chi2.ppf(.95, degrees_of_freedom)\n",
    "threshold"
   ]
  },
  {
   "cell_type": "markdown",
   "id": "319c2f4c",
   "metadata": {},
   "source": [
    "# Model 3"
   ]
  },
  {
   "cell_type": "code",
   "execution_count": 38,
   "id": "5fb7cc96",
   "metadata": {},
   "outputs": [],
   "source": [
    "asc_cycle3 = Beta('asc_cycle3', 0, None, None, 0)\n",
    "asc_pt3 = Beta('asc_pt3', 0, None, None, 0)\n",
    "asc_driving3 = Beta('asc_driving3', 0, None, None, 0)\n",
    "\n",
    "#beta_pt_interchanges3 = Beta('pt_interchanges3',0, None, None, 0)\n",
    "\n",
    "#thresholds = [0, 25, 50, 100]\n",
    "\n",
    "#beta_cost_0_25 = Beta('beta_cost_0_25', 0, None, None, 0)\n",
    "#beta_cost_25_50 = Beta('beta_cost_25_50', 0, None, None, 0)\n",
    "#beta_cost_50_100 = Beta('beta_cost_50_100',0,None,None,0)\n",
    "\n",
    "#betas_piecewise = [beta_cost_0_25, beta_cost_25_50, beta_cost_50_100]\n",
    "\n",
    "#cost_driving = df['cost_driving_ccharge'] + df['cost_driving_fuel']\n",
    "#df['cost_driving'] = cost_driving\n",
    "\n",
    "#cost_driving = Variable('cost_driving')\n",
    "\n",
    "#piecewise_age = models.piecewiseFormula(\n",
    "#    'age', thresholds, betas_piecewise\n",
    "#)\n",
    "\n",
    "##thresholds = [0,18,50]\n",
    "\n",
    "##beta_cost_0_25 = Beta('beta_cost_0_25', 0, None, None, 0)\n",
    "##beta_cost_25_50 = Beta('beta_cost_25_50', 0, None, None, 0)\n",
    "##beta_cost_50_100 = Beta('beta_cost_50_100',0,None,None,0)\n",
    "\n",
    "##betas_piecewise = [beta_cost_0_25, beta_cost_25_50]#, beta_cost_50_100]\n",
    "\n",
    "thresholds = [0,18,65,None]\n",
    "\n",
    "beta_cost_youngold = Beta('beta_cost_youngold', 0, None, None, 0)\n",
    "beta_cost_middleage = Beta('beta_cost_middleage', 0, None, None, 0)\n",
    "#beta_cost_50_100 = Beta('beta_cost_50_100',0,None,None,0)\n",
    "\n",
    "betas_piecewise = [beta_cost_youngold, beta_cost_middleage, beta_cost_youngold]\n",
    "\n",
    "\n",
    "piecewise_age = models.piecewiseFormula(\n",
    "    'age', thresholds, betas_piecewise\n",
    ")\n",
    "\n",
    "beta_traffic = Beta('beta_traffic',0,None,None,0)\n",
    "\n",
    "\n",
    "\n",
    "beta_time_walk3 = Beta('beta_time_walk3', 0, None, None, 0)\n",
    "beta_time_cycl3 = Beta('beta_time_cycl3', 0, None, None, 0)\n",
    "beta_time_pt3 = Beta('beta_time_pt3', 0, None, None, 0)\n",
    "beta_time_driv3 = Beta('beta_time_driv3', 0, None, None, 0)\n",
    "\n",
    "lambda_cox = Beta('lambda_cox', 0, None, None, 0)"
   ]
  },
  {
   "cell_type": "code",
   "execution_count": 39,
   "id": "46b7cb10",
   "metadata": {},
   "outputs": [],
   "source": [
    "Opt3_walk = (    \n",
    "    beta_time_walk3*models.boxcox(dur_walking, lambda_cox)\n",
    ")\n",
    "Opt3_cycle = (    \n",
    "    asc_cycle3 + beta_time_cycl3*models.boxcox(dur_cycling, lambda_cox)\n",
    ")\n",
    "Opt3_pt = (    \n",
    "    asc_pt3 + beta_time_pt3*models.boxcox(dur_pt, lambda_cox) + piecewise_age*cost_transit/age #+ beta_pt_interchanges3*pt_interchanges\n",
    ")\n",
    "Opt3_driv = (    \n",
    "    asc_driving3 + beta_time_driv3*models.boxcox(dur_driving, lambda_cox) + piecewise_age*cost_driving/age + beta_traffic*driving_traffic_percent\n",
    ")"
   ]
  },
  {
   "cell_type": "code",
   "execution_count": 40,
   "id": "af432c52",
   "metadata": {},
   "outputs": [],
   "source": [
    "V3 = {1: Opt3_walk, 2: Opt3_cycle, 3: Opt3_pt, 4: Opt3_driv}"
   ]
  },
  {
   "cell_type": "code",
   "execution_count": 41,
   "id": "9b0426b3",
   "metadata": {},
   "outputs": [],
   "source": [
    "logprob3 = models.loglogit(V3, None, travel_mode) "
   ]
  },
  {
   "cell_type": "code",
   "execution_count": 42,
   "id": "59e6eac0",
   "metadata": {},
   "outputs": [],
   "source": [
    "biogeme3 = bio.BIOGEME(database, logprob3)\n",
    "biogeme3.modelName = 'logit_lpmc07_3'"
   ]
  },
  {
   "cell_type": "code",
   "execution_count": 43,
   "id": "89c005e6",
   "metadata": {},
   "outputs": [
    {
     "name": "stdout",
     "output_type": "stream",
     "text": [
      "[11:15:17] < Warning >   Cannot read file __logit_lpmc07_3.iter. Statement is ignored.\n",
      "Number of estimated parameters:\t11\n",
      "Sample size:\t5000\n",
      "Excluded observations:\t0\n",
      "Init log likelihood:\t-6931.472\n",
      "Final log likelihood:\t-4224.293\n",
      "Likelihood ratio test for the init. model:\t5414.358\n",
      "Rho-square for the init. model:\t0.391\n",
      "Rho-square-bar for the init. model:\t0.389\n",
      "Akaike Information Criterion:\t8470.585\n",
      "Bayesian Information Criterion:\t8542.275\n",
      "Final gradient norm:\t1.5017E-02\n",
      "Nbr of threads:\t16\n",
      "\n"
     ]
    }
   ],
   "source": [
    "results3 = biogeme3.estimate()\n",
    "print(results3.printGeneralStatistics())"
   ]
  },
  {
   "cell_type": "code",
   "execution_count": 44,
   "id": "3c4ab656",
   "metadata": {},
   "outputs": [
    {
     "data": {
      "text/html": [
       "<div>\n",
       "<style scoped>\n",
       "    .dataframe tbody tr th:only-of-type {\n",
       "        vertical-align: middle;\n",
       "    }\n",
       "\n",
       "    .dataframe tbody tr th {\n",
       "        vertical-align: top;\n",
       "    }\n",
       "\n",
       "    .dataframe thead th {\n",
       "        text-align: right;\n",
       "    }\n",
       "</style>\n",
       "<table border=\"1\" class=\"dataframe\">\n",
       "  <thead>\n",
       "    <tr style=\"text-align: right;\">\n",
       "      <th></th>\n",
       "      <th>Value</th>\n",
       "      <th>Rob. Std err</th>\n",
       "      <th>Rob. t-test</th>\n",
       "      <th>Rob. p-value</th>\n",
       "    </tr>\n",
       "  </thead>\n",
       "  <tbody>\n",
       "    <tr>\n",
       "      <th>asc_cycle3</th>\n",
       "      <td>-1.583609</td>\n",
       "      <td>0.261759</td>\n",
       "      <td>-6.049883</td>\n",
       "      <td>1.449509e-09</td>\n",
       "    </tr>\n",
       "    <tr>\n",
       "      <th>asc_driving3</th>\n",
       "      <td>2.007417</td>\n",
       "      <td>0.276827</td>\n",
       "      <td>7.251523</td>\n",
       "      <td>4.121148e-13</td>\n",
       "    </tr>\n",
       "    <tr>\n",
       "      <th>asc_pt3</th>\n",
       "      <td>2.096810</td>\n",
       "      <td>0.192897</td>\n",
       "      <td>10.870072</td>\n",
       "      <td>0.000000e+00</td>\n",
       "    </tr>\n",
       "    <tr>\n",
       "      <th>beta_cost_middleage</th>\n",
       "      <td>-0.080281</td>\n",
       "      <td>0.046440</td>\n",
       "      <td>-1.728710</td>\n",
       "      <td>8.386108e-02</td>\n",
       "    </tr>\n",
       "    <tr>\n",
       "      <th>beta_cost_youngold</th>\n",
       "      <td>-0.104890</td>\n",
       "      <td>0.036701</td>\n",
       "      <td>-2.857933</td>\n",
       "      <td>4.264107e-03</td>\n",
       "    </tr>\n",
       "    <tr>\n",
       "      <th>beta_time_cycl3</th>\n",
       "      <td>-2.771042</td>\n",
       "      <td>0.297238</td>\n",
       "      <td>-9.322635</td>\n",
       "      <td>0.000000e+00</td>\n",
       "    </tr>\n",
       "    <tr>\n",
       "      <th>beta_time_driv3</th>\n",
       "      <td>-2.521645</td>\n",
       "      <td>0.299948</td>\n",
       "      <td>-8.406939</td>\n",
       "      <td>0.000000e+00</td>\n",
       "    </tr>\n",
       "    <tr>\n",
       "      <th>beta_time_pt3</th>\n",
       "      <td>-2.155863</td>\n",
       "      <td>0.203373</td>\n",
       "      <td>-10.600513</td>\n",
       "      <td>0.000000e+00</td>\n",
       "    </tr>\n",
       "    <tr>\n",
       "      <th>beta_time_walk3</th>\n",
       "      <td>-5.374291</td>\n",
       "      <td>0.372863</td>\n",
       "      <td>-14.413584</td>\n",
       "      <td>0.000000e+00</td>\n",
       "    </tr>\n",
       "    <tr>\n",
       "      <th>beta_traffic</th>\n",
       "      <td>-2.530745</td>\n",
       "      <td>0.236234</td>\n",
       "      <td>-10.712891</td>\n",
       "      <td>0.000000e+00</td>\n",
       "    </tr>\n",
       "    <tr>\n",
       "      <th>lambda_cox</th>\n",
       "      <td>0.379196</td>\n",
       "      <td>0.070231</td>\n",
       "      <td>5.399281</td>\n",
       "      <td>6.690850e-08</td>\n",
       "    </tr>\n",
       "  </tbody>\n",
       "</table>\n",
       "</div>"
      ],
      "text/plain": [
       "                        Value  Rob. Std err  Rob. t-test  Rob. p-value\n",
       "asc_cycle3          -1.583609      0.261759    -6.049883  1.449509e-09\n",
       "asc_driving3         2.007417      0.276827     7.251523  4.121148e-13\n",
       "asc_pt3              2.096810      0.192897    10.870072  0.000000e+00\n",
       "beta_cost_middleage -0.080281      0.046440    -1.728710  8.386108e-02\n",
       "beta_cost_youngold  -0.104890      0.036701    -2.857933  4.264107e-03\n",
       "beta_time_cycl3     -2.771042      0.297238    -9.322635  0.000000e+00\n",
       "beta_time_driv3     -2.521645      0.299948    -8.406939  0.000000e+00\n",
       "beta_time_pt3       -2.155863      0.203373   -10.600513  0.000000e+00\n",
       "beta_time_walk3     -5.374291      0.372863   -14.413584  0.000000e+00\n",
       "beta_traffic        -2.530745      0.236234   -10.712891  0.000000e+00\n",
       "lambda_cox           0.379196      0.070231     5.399281  6.690850e-08"
      ]
     },
     "execution_count": 44,
     "metadata": {},
     "output_type": "execute_result"
    }
   ],
   "source": [
    "results3.getEstimatedParameters()"
   ]
  },
  {
   "cell_type": "code",
   "execution_count": 53,
   "id": "c9be30c6-525b-48cd-b4d9-b8c892a45b28",
   "metadata": {},
   "outputs": [
    {
     "data": {
      "text/plain": [
       "-8.827881592250627"
      ]
     },
     "execution_count": 53,
     "metadata": {},
     "output_type": "execute_result"
    }
   ],
   "source": [
    "t_test_lambda = (0.379196-1)/0.0703231\n",
    "t_test_lambda"
   ]
  },
  {
   "cell_type": "code",
   "execution_count": 45,
   "id": "56fb2bbf",
   "metadata": {},
   "outputs": [
    {
     "data": {
      "text/plain": [
       "97.25716635595563"
      ]
     },
     "execution_count": 45,
     "metadata": {},
     "output_type": "execute_result"
    }
   ],
   "source": [
    "\n",
    "general_statistics2 = results2.getGeneralStatistics()\n",
    "general_statistics3 = results3.getGeneralStatistics()\n",
    "LR = general_statistics2['Final log likelihood'].value\n",
    "LU = general_statistics3['Final log likelihood'].value\n",
    "test = -2 * (LR - LU)\n",
    "test"
   ]
  },
  {
   "cell_type": "code",
   "execution_count": 54,
   "id": "5e574fe0",
   "metadata": {},
   "outputs": [
    {
     "data": {
      "text/plain": [
       "1"
      ]
     },
     "execution_count": 54,
     "metadata": {},
     "output_type": "execute_result"
    }
   ],
   "source": [
    "KR = general_statistics2['Number of estimated parameters'].value\n",
    "KU = general_statistics3['Number of estimated parameters'].value\n",
    "degrees_of_freedom = KU - KR\n",
    "degrees_of_freedom"
   ]
  },
  {
   "cell_type": "code",
   "execution_count": 58,
   "id": "8dec841a",
   "metadata": {},
   "outputs": [
    {
     "data": {
      "text/plain": [
       "3.841458820694124"
      ]
     },
     "execution_count": 58,
     "metadata": {},
     "output_type": "execute_result"
    }
   ],
   "source": [
    "threshold = chi2.ppf(.95, 1)\n",
    "threshold"
   ]
  },
  {
   "cell_type": "markdown",
   "id": "3801aadf-3646-418a-84ec-fc9e6e557812",
   "metadata": {
    "tags": []
   },
   "source": [
    "# Model 4\n",
    "The nests are defined as\n",
    "- A) low concentration and low accident risk: walking and public transport.high concentration and high accident risk: driving and cycling\n",
    "- B) high concentration and high accident risk: driving and cycling"
   ]
  },
  {
   "cell_type": "code",
   "execution_count": 48,
   "id": "d73b1b05-7d6c-4b30-b288-3de7f5c3a0ea",
   "metadata": {},
   "outputs": [
    {
     "name": "stdout",
     "output_type": "stream",
     "text": [
      "Number of estimated parameters:\t13\n",
      "Sample size:\t5000\n",
      "Excluded observations:\t0\n",
      "Init log likelihood:\t-6931.472\n",
      "Final log likelihood:\t-4220.637\n",
      "Likelihood ratio test for the init. model:\t5421.67\n",
      "Rho-square for the init. model:\t0.391\n",
      "Rho-square-bar for the init. model:\t0.389\n",
      "Akaike Information Criterion:\t8467.273\n",
      "Bayesian Information Criterion:\t8551.997\n",
      "Final gradient norm:\t2.6582E-02\n",
      "Nbr of threads:\t16\n",
      "\n"
     ]
    },
    {
     "data": {
      "text/html": [
       "<div>\n",
       "<style scoped>\n",
       "    .dataframe tbody tr th:only-of-type {\n",
       "        vertical-align: middle;\n",
       "    }\n",
       "\n",
       "    .dataframe tbody tr th {\n",
       "        vertical-align: top;\n",
       "    }\n",
       "\n",
       "    .dataframe thead th {\n",
       "        text-align: right;\n",
       "    }\n",
       "</style>\n",
       "<table border=\"1\" class=\"dataframe\">\n",
       "  <thead>\n",
       "    <tr style=\"text-align: right;\">\n",
       "      <th></th>\n",
       "      <th>Value</th>\n",
       "      <th>Rob. Std err</th>\n",
       "      <th>Rob. t-test</th>\n",
       "      <th>Rob. p-value</th>\n",
       "    </tr>\n",
       "  </thead>\n",
       "  <tbody>\n",
       "    <tr>\n",
       "      <th>asc_cycle4</th>\n",
       "      <td>-1.627140</td>\n",
       "      <td>0.370227</td>\n",
       "      <td>-4.394982</td>\n",
       "      <td>1.107818e-05</td>\n",
       "    </tr>\n",
       "    <tr>\n",
       "      <th>asc_driving4</th>\n",
       "      <td>1.622294</td>\n",
       "      <td>0.300275</td>\n",
       "      <td>5.402689</td>\n",
       "      <td>6.564905e-08</td>\n",
       "    </tr>\n",
       "    <tr>\n",
       "      <th>asc_pt4</th>\n",
       "      <td>1.647707</td>\n",
       "      <td>0.245517</td>\n",
       "      <td>6.711181</td>\n",
       "      <td>1.930567e-11</td>\n",
       "    </tr>\n",
       "    <tr>\n",
       "      <th>beta_cost_middleage</th>\n",
       "      <td>-0.075355</td>\n",
       "      <td>0.043291</td>\n",
       "      <td>-1.740688</td>\n",
       "      <td>8.173827e-02</td>\n",
       "    </tr>\n",
       "    <tr>\n",
       "      <th>beta_cost_youngold</th>\n",
       "      <td>-0.107561</td>\n",
       "      <td>0.034985</td>\n",
       "      <td>-3.074511</td>\n",
       "      <td>2.108483e-03</td>\n",
       "    </tr>\n",
       "    <tr>\n",
       "      <th>beta_time_cycl4</th>\n",
       "      <td>-2.678963</td>\n",
       "      <td>0.290576</td>\n",
       "      <td>-9.219496</td>\n",
       "      <td>0.000000e+00</td>\n",
       "    </tr>\n",
       "    <tr>\n",
       "      <th>beta_time_driv4</th>\n",
       "      <td>-2.409871</td>\n",
       "      <td>0.305609</td>\n",
       "      <td>-7.885460</td>\n",
       "      <td>3.108624e-15</td>\n",
       "    </tr>\n",
       "    <tr>\n",
       "      <th>beta_time_pt4</th>\n",
       "      <td>-2.166825</td>\n",
       "      <td>0.212811</td>\n",
       "      <td>-10.181926</td>\n",
       "      <td>0.000000e+00</td>\n",
       "    </tr>\n",
       "    <tr>\n",
       "      <th>beta_time_walk4</th>\n",
       "      <td>-4.873209</td>\n",
       "      <td>0.376794</td>\n",
       "      <td>-12.933348</td>\n",
       "      <td>0.000000e+00</td>\n",
       "    </tr>\n",
       "    <tr>\n",
       "      <th>beta_traffic</th>\n",
       "      <td>-2.462150</td>\n",
       "      <td>0.233260</td>\n",
       "      <td>-10.555405</td>\n",
       "      <td>0.000000e+00</td>\n",
       "    </tr>\n",
       "    <tr>\n",
       "      <th>lambda_cox</th>\n",
       "      <td>0.382546</td>\n",
       "      <td>0.073875</td>\n",
       "      <td>5.178253</td>\n",
       "      <td>2.239732e-07</td>\n",
       "    </tr>\n",
       "    <tr>\n",
       "      <th>mu_a</th>\n",
       "      <td>1.208714</td>\n",
       "      <td>0.119783</td>\n",
       "      <td>10.090857</td>\n",
       "      <td>0.000000e+00</td>\n",
       "    </tr>\n",
       "    <tr>\n",
       "      <th>mu_b</th>\n",
       "      <td>1.172845</td>\n",
       "      <td>0.113761</td>\n",
       "      <td>10.309717</td>\n",
       "      <td>0.000000e+00</td>\n",
       "    </tr>\n",
       "  </tbody>\n",
       "</table>\n",
       "</div>"
      ],
      "text/plain": [
       "                        Value  Rob. Std err  Rob. t-test  Rob. p-value\n",
       "asc_cycle4          -1.627140      0.370227    -4.394982  1.107818e-05\n",
       "asc_driving4         1.622294      0.300275     5.402689  6.564905e-08\n",
       "asc_pt4              1.647707      0.245517     6.711181  1.930567e-11\n",
       "beta_cost_middleage -0.075355      0.043291    -1.740688  8.173827e-02\n",
       "beta_cost_youngold  -0.107561      0.034985    -3.074511  2.108483e-03\n",
       "beta_time_cycl4     -2.678963      0.290576    -9.219496  0.000000e+00\n",
       "beta_time_driv4     -2.409871      0.305609    -7.885460  3.108624e-15\n",
       "beta_time_pt4       -2.166825      0.212811   -10.181926  0.000000e+00\n",
       "beta_time_walk4     -4.873209      0.376794   -12.933348  0.000000e+00\n",
       "beta_traffic        -2.462150      0.233260   -10.555405  0.000000e+00\n",
       "lambda_cox           0.382546      0.073875     5.178253  2.239732e-07\n",
       "mu_a                 1.208714      0.119783    10.090857  0.000000e+00\n",
       "mu_b                 1.172845      0.113761    10.309717  0.000000e+00"
      ]
     },
     "execution_count": 48,
     "metadata": {},
     "output_type": "execute_result"
    }
   ],
   "source": [
    "asc_cycle4 = Beta('asc_cycle4', 0, None, None, 0)\n",
    "asc_pt4 = Beta('asc_pt4', 0, None, None, 0)\n",
    "asc_driving4 = Beta('asc_driving4', 0, None, None, 0)\n",
    "\n",
    "#beta_pt_interchanges3 = Beta('pt_interchanges3',0, None, None, 0)\n",
    "\n",
    "#thresholds = [0, 25, 50, 100]\n",
    "\n",
    "#beta_cost_0_25 = Beta('beta_cost_0_25', 0, None, None, 0)\n",
    "#beta_cost_25_50 = Beta('beta_cost_25_50', 0, None, None, 0)\n",
    "#beta_cost_50_100 = Beta('beta_cost_50_100',0,None,None,0)\n",
    "\n",
    "#betas_piecewise = [beta_cost_0_25, beta_cost_25_50, beta_cost_50_100]\n",
    "\n",
    "#cost_driving = df['cost_driving_ccharge'] + df['cost_driving_fuel']\n",
    "#df['cost_driving'] = cost_driving\n",
    "\n",
    "#cost_driving = Variable('cost_driving')\n",
    "\n",
    "#piecewise_age = models.piecewiseFormula(\n",
    "#    'age', thresholds, betas_piecewise\n",
    "#)\n",
    "\n",
    "#thresholds = [0,18,50]\n",
    "\n",
    "#beta_cost_0_25 = Beta('beta_cost_0_25', 0, None, None, 0)\n",
    "#beta_cost_25_50 = Beta('beta_cost_25_50', 0, None, None, 0)\n",
    "#beta_cost_50_100 = Beta('beta_cost_50_100',0,None,None,0)\n",
    "\n",
    "thresholds = [0,18,65,None]\n",
    "\n",
    "beta_cost_youngold = Beta('beta_cost_youngold', 0, None, None, 0)\n",
    "beta_cost_middleage = Beta('beta_cost_middleage', 0, None, None, 0)\n",
    "#beta_cost_50_100 = Beta('beta_cost_50_100',0,None,None,0)\n",
    "\n",
    "betas_piecewise = [beta_cost_youngold, beta_cost_middleage, beta_cost_youngold]\n",
    "\n",
    "\n",
    "piecewise_age = models.piecewiseFormula(\n",
    "    'age', thresholds, betas_piecewise\n",
    ")\n",
    "\n",
    "beta_traffic = Beta('beta_traffic',0,None,None,0)\n",
    "\n",
    "\n",
    "\n",
    "beta_time_walk4 = Beta('beta_time_walk4', 0, None, None, 0)\n",
    "beta_time_cycl4 = Beta('beta_time_cycl4', 0, None, None, 0)\n",
    "beta_time_pt4 = Beta('beta_time_pt4', 0, None, None, 0)\n",
    "beta_time_driv4 = Beta('beta_time_driv4', 0, None, None, 0)\n",
    "\n",
    "lambda_cox = Beta('lambda_cox', 0, None, None, 0)\n",
    "\n",
    "\n",
    "Opt4_walk = (    \n",
    "    beta_time_walk4*models.boxcox(dur_walking, lambda_cox)\n",
    ")\n",
    "Opt4_cycle = (    \n",
    "    asc_cycle4 + beta_time_cycl4*models.boxcox(dur_cycling, lambda_cox)\n",
    ")\n",
    "Opt4_pt = (    \n",
    "    asc_pt4 + beta_time_pt4*models.boxcox(dur_pt, lambda_cox) + piecewise_age*cost_transit/age #+ beta_pt_interchanges3*pt_interchanges\n",
    ")\n",
    "Opt4_driv = (    \n",
    "    asc_driving4 + beta_time_driv4*models.boxcox(dur_driving, lambda_cox) + piecewise_age*cost_driving/age + beta_traffic*driving_traffic_percent\n",
    ")\n",
    "\n",
    "V4 = {1: Opt4_walk, 2: Opt4_cycle, 3: Opt4_pt, 4: Opt4_driv}\n",
    "\n",
    "# Define the nests\n",
    "mu_a = Beta('mu_a', 1, 0, None, 0)\n",
    "mu_b = Beta('mu_b', 1, 0, None, 0)\n",
    "nest_a = mu_a, [1, 3] # 1 and 3 refers to walk and pt as in the dictionary V1\n",
    "nest_b = mu_b, [2, 4]\n",
    "nests = nest_a, nest_b\n",
    "\n",
    "#availability\n",
    "\n",
    "logprob4 = models.lognested(V4, None, nests, travel_mode)\n",
    "\n",
    "biogeme4 = bio.BIOGEME(database, logprob4)\n",
    "biogeme4.modelName = 'logit_lpmc07_as'\n",
    "\n",
    "results4 = biogeme4.estimate()\n",
    "\n",
    "print(results4.printGeneralStatistics())\n",
    "\n",
    "results4.getEstimatedParameters()"
   ]
  },
  {
   "cell_type": "code",
   "execution_count": 59,
   "id": "56c5c50d-07a1-4e15-bd0f-cb95588bea06",
   "metadata": {},
   "outputs": [
    {
     "data": {
      "text/plain": [
       "-8.358091370558375"
      ]
     },
     "execution_count": 59,
     "metadata": {},
     "output_type": "execute_result"
    }
   ],
   "source": [
    "t_test_lambda = (0.382546-1)/0.073875\n",
    "t_test_lambda"
   ]
  },
  {
   "cell_type": "code",
   "execution_count": 60,
   "id": "d678c6e4-e5a4-4a61-9b25-a262e6bc03b3",
   "metadata": {},
   "outputs": [
    {
     "data": {
      "text/plain": [
       "1.7424342352420628"
      ]
     },
     "execution_count": 60,
     "metadata": {},
     "output_type": "execute_result"
    }
   ],
   "source": [
    "t_test_mua = (0.208714)/0.119783\n",
    "t_test_mua"
   ]
  },
  {
   "cell_type": "code",
   "execution_count": 61,
   "id": "4320892e-0b21-4726-ae47-5002268dc4fe",
   "metadata": {},
   "outputs": [
    {
     "data": {
      "text/plain": [
       "1.5193695554715587"
      ]
     },
     "execution_count": 61,
     "metadata": {},
     "output_type": "execute_result"
    }
   ],
   "source": [
    "t_test_mub = (0.172845)/0.113761\n",
    "t_test_mub"
   ]
  },
  {
   "cell_type": "markdown",
   "id": "d3312c66-2486-47a7-b45d-bd24d9de143f",
   "metadata": {},
   "source": [
    "test"
   ]
  },
  {
   "cell_type": "code",
   "execution_count": 49,
   "id": "ae8a8dd0-6aa9-4ed5-87b1-fda78fecaa21",
   "metadata": {},
   "outputs": [
    {
     "data": {
      "text/plain": [
       "7.312058576355412"
      ]
     },
     "execution_count": 49,
     "metadata": {},
     "output_type": "execute_result"
    }
   ],
   "source": [
    "general_statistics3 = results3.getGeneralStatistics()\n",
    "general_statistics4 = results4.getGeneralStatistics()\n",
    "LR = general_statistics3['Final log likelihood'].value\n",
    "LU = general_statistics4['Final log likelihood'].value\n",
    "test = -2 * (LR - LU)\n",
    "test"
   ]
  },
  {
   "cell_type": "code",
   "execution_count": 50,
   "id": "67efeeeb-53c2-4fed-b75f-a6ea5ece4524",
   "metadata": {},
   "outputs": [
    {
     "data": {
      "text/plain": [
       "2"
      ]
     },
     "execution_count": 50,
     "metadata": {},
     "output_type": "execute_result"
    }
   ],
   "source": [
    "KR = general_statistics3['Number of estimated parameters'].value\n",
    "KU = general_statistics4['Number of estimated parameters'].value\n",
    "degrees_of_freedom = KU - KR\n",
    "degrees_of_freedom"
   ]
  },
  {
   "cell_type": "code",
   "execution_count": 51,
   "id": "27638c9f-f8f5-4fae-a478-bd64ee55e16e",
   "metadata": {},
   "outputs": [
    {
     "data": {
      "text/plain": [
       "5.991464547107979"
      ]
     },
     "execution_count": 51,
     "metadata": {},
     "output_type": "execute_result"
    }
   ],
   "source": [
    "threshold = chi2.ppf(.95, degrees_of_freedom)\n",
    "threshold"
   ]
  },
  {
   "cell_type": "markdown",
   "id": "a107e2e1-257d-4991-95b3-e38692c29724",
   "metadata": {},
   "source": [
    "# Market shares"
   ]
  },
  {
   "cell_type": "code",
   "execution_count": 53,
   "id": "9f6358ae-1322-4b3a-ada9-1bbe8a342333",
   "metadata": {},
   "outputs": [
    {
     "data": {
      "text/plain": [
       "8673713"
      ]
     },
     "execution_count": 53,
     "metadata": {},
     "output_type": "execute_result"
    }
   ],
   "source": [
    "census = {\n",
    "    'male_41_more':  1633263,\n",
    "    'male_40_less':  2676249,\n",
    "    'female_41_more':  1765143,\n",
    "    'female_40_less':  2599058,\n",
    "}\n",
    "\n",
    "total = sum(census.values())\n",
    "total"
   ]
  },
  {
   "cell_type": "code",
   "execution_count": 54,
   "id": "0bd5a652-7189-4c87-866d-1da8d6ca2793",
   "metadata": {},
   "outputs": [
    {
     "data": {
      "text/plain": [
       "{'male_41_more': 1075,\n",
       " 'male_40_less': 1270,\n",
       " 'female_41_more': 1196,\n",
       " 'female_40_less': 1457}"
      ]
     },
     "execution_count": 54,
     "metadata": {},
     "output_type": "execute_result"
    }
   ],
   "source": [
    "filters = {\n",
    "    'male_41_more': (df.age > 40) & (df.female == 0),\n",
    "    'male_40_less': (df.age <= 40) & (df.female == 0),\n",
    "    'female_41_more': (df.age > 40) & (df.female == 1),\n",
    "    'female_40_less': (df.age <= 40) & (df.female == 1),\n",
    "}\n",
    "\n",
    "sample_segments = {\n",
    "    k: v.sum() for k, v in filters.items()\n",
    "}\n",
    "sample_segments"
   ]
  },
  {
   "cell_type": "code",
   "execution_count": 55,
   "id": "7b8faa6b-70f6-4ff0-8f2b-5af3089476c2",
   "metadata": {},
   "outputs": [
    {
     "data": {
      "text/plain": [
       "4998"
      ]
     },
     "execution_count": 55,
     "metadata": {},
     "output_type": "execute_result"
    }
   ],
   "source": [
    "total_sample = sum(sample_segments.values())\n",
    "total_sample"
   ]
  },
  {
   "cell_type": "code",
   "execution_count": 56,
   "id": "dcb8f6ba-986a-4d80-851d-b69cf50edd6a",
   "metadata": {},
   "outputs": [
    {
     "data": {
      "text/plain": [
       "{'male_41_more': 0.8754651513355407,\n",
       " 'male_40_less': 1.2142664647161419,\n",
       " 'female_41_more': 0.850432637527414,\n",
       " 'female_40_less': 1.0278923250803063}"
      ]
     },
     "execution_count": 56,
     "metadata": {},
     "output_type": "execute_result"
    }
   ],
   "source": [
    "weights = {\n",
    "    k: census[k] * total_sample / (v * total) \n",
    "    for k, v in sample_segments.items()\n",
    "}\n",
    "weights"
   ]
  },
  {
   "cell_type": "code",
   "execution_count": 57,
   "id": "69a6e6cf-e952-4b65-a2dc-7faf33f28791",
   "metadata": {},
   "outputs": [],
   "source": [
    "for k, f in filters.items():\n",
    "    df.loc[f, 'Weight'] = weights[k]\n"
   ]
  },
  {
   "cell_type": "code",
   "execution_count": 58,
   "id": "cf8e9cf0-89d4-49ec-b25d-d1f4dcea358f",
   "metadata": {},
   "outputs": [],
   "source": [
    "from collections import namedtuple\n",
    "IndicatorTuple = namedtuple('IndicatorTuple', 'value lower upper') "
   ]
  },
  {
   "cell_type": "code",
   "execution_count": 59,
   "id": "c77df120-bfb8-4383-87c6-e082b0bf4ccc",
   "metadata": {},
   "outputs": [
    {
     "name": "stderr",
     "output_type": "stream",
     "text": [
      "100%|██████████| 100/100 [00:14<00:00,  6.73it/s]\n"
     ]
    }
   ],
   "source": [
    "logprob4 = models.loglogit(V4, None, travel_mode) \n",
    "\n",
    "biogeme4 = bio.BIOGEME(database, logprob4)\n",
    "biogeme4.modelName = 'logit_lpmc07_as'\n",
    "\n",
    "results = biogeme4.estimate(bootstrap=100, recycle=False)"
   ]
  },
  {
   "cell_type": "code",
   "execution_count": 60,
   "id": "c5f40c80-7859-4823-904d-b24f8340b158",
   "metadata": {},
   "outputs": [],
   "source": [
    "Weight = Variable('Weight')"
   ]
  },
  {
   "cell_type": "code",
   "execution_count": 61,
   "id": "1957fea3-02b8-4dff-9da8-8da072f90c32",
   "metadata": {},
   "outputs": [],
   "source": [
    "def market_share(utility):\n",
    "    \n",
    "    prob_WALK = models.logit(utility, None, 1)\n",
    "    prob_CYCLE = models.logit(utility, None, 2)\n",
    "    prob_PT = models.logit(utility, None, 3)\n",
    "    prob_DRIVE = models.logit(utility, None, 4)\n",
    "\n",
    "    simulate = {\n",
    "        'Weight': Weight,\n",
    "        'Prob. walk': prob_WALK,\n",
    "        'Prob. cycle': prob_CYCLE,\n",
    "        'Prob. PT': prob_PT,\n",
    "        'Prob. drive' : prob_DRIVE,\n",
    "    }\n",
    "    biosim = bio.BIOGEME(database, simulate)\n",
    "    simulated_values = biosim.simulate(results.getBetaValues())\n",
    "\n",
    "    # We also calculate confidence intervals for the calculated quantities\n",
    "\n",
    "    betas = biogeme4.freeBetaNames()\n",
    "    b = results.getBetasForSensitivityAnalysis(betas)\n",
    "    left, right = biosim.confidenceIntervals(b, 0.9)\n",
    "\n",
    "    # Market shares are calculated using the weighted mean of the individual probabilities\n",
    "\n",
    "    ## Alternative walk\n",
    "\n",
    "    simulated_values['Weighted prob. walk'] = (\n",
    "        simulated_values['Weight'] * simulated_values['Prob. walk']\n",
    "    )\n",
    "    left['Weighted prob. walk'] = left['Weight'] * left['Prob. walk']\n",
    "    right['Weighted prob. walk'] = (\n",
    "                        right['Weight'] * right['Prob. walk']\n",
    "    )\n",
    "\n",
    "    marketShare_walk = simulated_values['Weighted prob. walk'].mean()\n",
    "    marketShare_walk_left = left['Weighted prob. walk'].mean()\n",
    "    marketShare_walk_right = right['Weighted prob. walk'].mean()\n",
    "    \n",
    "        ## Alternative cycle\n",
    "\n",
    "    simulated_values['Weighted prob. cycle'] = (\n",
    "        simulated_values['Weight'] * simulated_values['Prob. cycle']\n",
    "    )\n",
    "    left['Weighted prob. cycle'] = left['Weight'] * left['Prob. cycle']\n",
    "    right['Weighted prob. cycle'] = right['Weight'] * right['Prob. cycle']\n",
    "\n",
    "    marketShare_cycle = simulated_values['Weighted prob. cycle'].mean()\n",
    "    marketShare_cycle_left = left['Weighted prob. cycle'].mean()\n",
    "    marketShare_cycle_right = right['Weighted prob. cycle'].mean()\n",
    "\n",
    "    ## Alternative public transportation\n",
    "\n",
    "    simulated_values['Weighted prob. PT'] = (\n",
    "        simulated_values['Weight'] * simulated_values['Prob. PT']\n",
    "    )\n",
    "    left['Weighted prob. PT'] = left['Weight'] * left['Prob. PT']\n",
    "    right['Weighted prob. PT'] = right['Weight'] * right['Prob. PT']\n",
    "\n",
    "    marketShare_PT = simulated_values['Weighted prob. PT'].mean()\n",
    "    marketShare_PT_left = left['Weighted prob. PT'].mean()\n",
    "    marketShare_PT_right = right['Weighted prob. PT'].mean()\n",
    "\n",
    "    ## Alternative drive\n",
    "\n",
    "    simulated_values['Weighted prob. drive'] = (\n",
    "        simulated_values['Weight'] * simulated_values['Prob. drive']\n",
    "    )\n",
    "    left['Weighted prob. drive'] = left['Weight'] * left['Prob. drive']\n",
    "    right['Weighted prob. drive'] = right['Weight'] * right['Prob. drive']\n",
    "\n",
    "    marketShare_drive = simulated_values['Weighted prob. drive'].mean()\n",
    "    marketShare_drive_left = left['Weighted prob. drive'].mean()\n",
    "    marketShare_drive_right = right['Weighted prob. drive'].mean()\n",
    "    \n",
    "\n",
    "    return {\n",
    "            'Walk': IndicatorTuple(\n",
    "                value=marketShare_walk, \n",
    "                lower=marketShare_walk_left, \n",
    "                upper=marketShare_walk_right\n",
    "            ),\n",
    "            'Cycle': IndicatorTuple(\n",
    "                value=marketShare_cycle, \n",
    "                lower=marketShare_cycle_left, \n",
    "                upper=marketShare_cycle_right\n",
    "            ),\n",
    "            'Public transportation': IndicatorTuple(\n",
    "                value=marketShare_PT, \n",
    "                lower=marketShare_PT_left, \n",
    "                upper=marketShare_PT_right\n",
    "            ),\n",
    "            'Drive': IndicatorTuple(\n",
    "                value=marketShare_drive, \n",
    "                lower=marketShare_drive_left, \n",
    "                upper=marketShare_drive_right\n",
    "            )\n",
    "    }"
   ]
  },
  {
   "cell_type": "code",
   "execution_count": 62,
   "id": "05df6106-a142-4932-88ec-52669cb16fc7",
   "metadata": {},
   "outputs": [
    {
     "name": "stdout",
     "output_type": "stream",
     "text": [
      "[19:00:19] < Warning >   The chosen alternative [`1.0`] is not available for the following observations (rownumber[choice]): 4[1.0]-20[1.0]-24[1.0]-25[1.0]-31[1.0]-32[1.0]-33[1.0]-36[1.0]-37[1.0]-38[1.0]-48[1.0]-50[1.0]-52[1....\n",
      "[19:00:19] < Warning >   The chosen alternative [`1.0`] is not available for the following observations (rownumber[choice]): 4[1.0]-20[1.0]-24[1.0]-25[1.0]-31[1.0]-32[1.0]-33[1.0]-36[1.0]-37[1.0]-38[1.0]-48[1.0]-50[1.0]-52[1....\n",
      "[19:00:19] < Warning >   The chosen alternative [`1.0`] is not available for the following observations (rownumber[choice]): 4[1.0]-20[1.0]-24[1.0]-25[1.0]-31[1.0]-32[1.0]-33[1.0]-36[1.0]-37[1.0]-38[1.0]-48[1.0]-50[1.0]-52[1....\n",
      "[19:00:19] < Warning >   The chosen alternative [`1.0`] is not available for the following observations (rownumber[choice]): 4[1.0]-20[1.0]-24[1.0]-25[1.0]-31[1.0]-32[1.0]-33[1.0]-36[1.0]-37[1.0]-38[1.0]-48[1.0]-50[1.0]-52[1....\n",
      "[19:00:20] < Warning >   The chosen alternative [`1.0`] is not available for the following observations (rownumber[choice]): 4[1.0]-20[1.0]-24[1.0]-25[1.0]-31[1.0]-32[1.0]-33[1.0]-36[1.0]-37[1.0]-38[1.0]-48[1.0]-50[1.0]-52[1....\n",
      "[19:00:20] < Warning >   The chosen alternative [`1.0`] is not available for the following observations (rownumber[choice]): 4[1.0]-20[1.0]-24[1.0]-25[1.0]-31[1.0]-32[1.0]-33[1.0]-36[1.0]-37[1.0]-38[1.0]-48[1.0]-50[1.0]-52[1....\n",
      "[19:00:20] < Warning >   The chosen alternative [`1.0`] is not available for the following observations (rownumber[choice]): 4[1.0]-20[1.0]-24[1.0]-25[1.0]-31[1.0]-32[1.0]-33[1.0]-36[1.0]-37[1.0]-38[1.0]-48[1.0]-50[1.0]-52[1....\n",
      "[19:00:20] < Warning >   The chosen alternative [`1.0`] is not available for the following observations (rownumber[choice]): 4[1.0]-20[1.0]-24[1.0]-25[1.0]-31[1.0]-32[1.0]-33[1.0]-36[1.0]-37[1.0]-38[1.0]-48[1.0]-50[1.0]-52[1....\n",
      "[19:00:21] < Warning >   The chosen alternative [`1.0`] is not available for the following observations (rownumber[choice]): 4[1.0]-20[1.0]-24[1.0]-25[1.0]-31[1.0]-32[1.0]-33[1.0]-36[1.0]-37[1.0]-38[1.0]-48[1.0]-50[1.0]-52[1....\n",
      "[19:00:21] < Warning >   The chosen alternative [`1.0`] is not available for the following observations (rownumber[choice]): 4[1.0]-20[1.0]-24[1.0]-25[1.0]-31[1.0]-32[1.0]-33[1.0]-36[1.0]-37[1.0]-38[1.0]-48[1.0]-50[1.0]-52[1....\n",
      "[19:00:21] < Warning >   The chosen alternative [`1.0`] is not available for the following observations (rownumber[choice]): 4[1.0]-20[1.0]-24[1.0]-25[1.0]-31[1.0]-32[1.0]-33[1.0]-36[1.0]-37[1.0]-38[1.0]-48[1.0]-50[1.0]-52[1....\n",
      "[19:00:21] < Warning >   The chosen alternative [`1.0`] is not available for the following observations (rownumber[choice]): 4[1.0]-20[1.0]-24[1.0]-25[1.0]-31[1.0]-32[1.0]-33[1.0]-36[1.0]-37[1.0]-38[1.0]-48[1.0]-50[1.0]-52[1....\n",
      "[19:00:22] < Warning >   The chosen alternative [`1.0`] is not available for the following observations (rownumber[choice]): 4[1.0]-20[1.0]-24[1.0]-25[1.0]-31[1.0]-32[1.0]-33[1.0]-36[1.0]-37[1.0]-38[1.0]-48[1.0]-50[1.0]-52[1....\n",
      "[19:00:22] < Warning >   The chosen alternative [`1.0`] is not available for the following observations (rownumber[choice]): 4[1.0]-20[1.0]-24[1.0]-25[1.0]-31[1.0]-32[1.0]-33[1.0]-36[1.0]-37[1.0]-38[1.0]-48[1.0]-50[1.0]-52[1....\n",
      "[19:00:22] < Warning >   The chosen alternative [`1.0`] is not available for the following observations (rownumber[choice]): 4[1.0]-20[1.0]-24[1.0]-25[1.0]-31[1.0]-32[1.0]-33[1.0]-36[1.0]-37[1.0]-38[1.0]-48[1.0]-50[1.0]-52[1....\n",
      "[19:00:22] < Warning >   The chosen alternative [`1.0`] is not available for the following observations (rownumber[choice]): 4[1.0]-20[1.0]-24[1.0]-25[1.0]-31[1.0]-32[1.0]-33[1.0]-36[1.0]-37[1.0]-38[1.0]-48[1.0]-50[1.0]-52[1....\n",
      "[19:00:23] < Warning >   The chosen alternative [`1.0`] is not available for the following observations (rownumber[choice]): 4[1.0]-20[1.0]-24[1.0]-25[1.0]-31[1.0]-32[1.0]-33[1.0]-36[1.0]-37[1.0]-38[1.0]-48[1.0]-50[1.0]-52[1....\n",
      "[19:00:23] < Warning >   The chosen alternative [`1.0`] is not available for the following observations (rownumber[choice]): 4[1.0]-20[1.0]-24[1.0]-25[1.0]-31[1.0]-32[1.0]-33[1.0]-36[1.0]-37[1.0]-38[1.0]-48[1.0]-50[1.0]-52[1....\n",
      "[19:00:23] < Warning >   The chosen alternative [`1.0`] is not available for the following observations (rownumber[choice]): 4[1.0]-20[1.0]-24[1.0]-25[1.0]-31[1.0]-32[1.0]-33[1.0]-36[1.0]-37[1.0]-38[1.0]-48[1.0]-50[1.0]-52[1....\n",
      "[19:00:23] < Warning >   The chosen alternative [`1.0`] is not available for the following observations (rownumber[choice]): 4[1.0]-20[1.0]-24[1.0]-25[1.0]-31[1.0]-32[1.0]-33[1.0]-36[1.0]-37[1.0]-38[1.0]-48[1.0]-50[1.0]-52[1....\n",
      "[19:00:24] < Warning >   The chosen alternative [`1.0`] is not available for the following observations (rownumber[choice]): 4[1.0]-20[1.0]-24[1.0]-25[1.0]-31[1.0]-32[1.0]-33[1.0]-36[1.0]-37[1.0]-38[1.0]-48[1.0]-50[1.0]-52[1....\n",
      "[19:00:24] < Warning >   The chosen alternative [`1.0`] is not available for the following observations (rownumber[choice]): 4[1.0]-20[1.0]-24[1.0]-25[1.0]-31[1.0]-32[1.0]-33[1.0]-36[1.0]-37[1.0]-38[1.0]-48[1.0]-50[1.0]-52[1....\n",
      "[19:00:24] < Warning >   The chosen alternative [`1.0`] is not available for the following observations (rownumber[choice]): 4[1.0]-20[1.0]-24[1.0]-25[1.0]-31[1.0]-32[1.0]-33[1.0]-36[1.0]-37[1.0]-38[1.0]-48[1.0]-50[1.0]-52[1....\n",
      "[19:00:24] < Warning >   The chosen alternative [`1.0`] is not available for the following observations (rownumber[choice]): 4[1.0]-20[1.0]-24[1.0]-25[1.0]-31[1.0]-32[1.0]-33[1.0]-36[1.0]-37[1.0]-38[1.0]-48[1.0]-50[1.0]-52[1....\n",
      "[19:00:25] < Warning >   The chosen alternative [`1.0`] is not available for the following observations (rownumber[choice]): 4[1.0]-20[1.0]-24[1.0]-25[1.0]-31[1.0]-32[1.0]-33[1.0]-36[1.0]-37[1.0]-38[1.0]-48[1.0]-50[1.0]-52[1....\n",
      "[19:00:25] < Warning >   The chosen alternative [`1.0`] is not available for the following observations (rownumber[choice]): 4[1.0]-20[1.0]-24[1.0]-25[1.0]-31[1.0]-32[1.0]-33[1.0]-36[1.0]-37[1.0]-38[1.0]-48[1.0]-50[1.0]-52[1....\n",
      "[19:00:25] < Warning >   The chosen alternative [`1.0`] is not available for the following observations (rownumber[choice]): 4[1.0]-20[1.0]-24[1.0]-25[1.0]-31[1.0]-32[1.0]-33[1.0]-36[1.0]-37[1.0]-38[1.0]-48[1.0]-50[1.0]-52[1....\n",
      "[19:00:25] < Warning >   The chosen alternative [`1.0`] is not available for the following observations (rownumber[choice]): 4[1.0]-20[1.0]-24[1.0]-25[1.0]-31[1.0]-32[1.0]-33[1.0]-36[1.0]-37[1.0]-38[1.0]-48[1.0]-50[1.0]-52[1....\n",
      "[19:00:26] < Warning >   The chosen alternative [`1.0`] is not available for the following observations (rownumber[choice]): 4[1.0]-20[1.0]-24[1.0]-25[1.0]-31[1.0]-32[1.0]-33[1.0]-36[1.0]-37[1.0]-38[1.0]-48[1.0]-50[1.0]-52[1....\n",
      "[19:00:26] < Warning >   The chosen alternative [`1.0`] is not available for the following observations (rownumber[choice]): 4[1.0]-20[1.0]-24[1.0]-25[1.0]-31[1.0]-32[1.0]-33[1.0]-36[1.0]-37[1.0]-38[1.0]-48[1.0]-50[1.0]-52[1....\n",
      "[19:00:26] < Warning >   The chosen alternative [`1.0`] is not available for the following observations (rownumber[choice]): 4[1.0]-20[1.0]-24[1.0]-25[1.0]-31[1.0]-32[1.0]-33[1.0]-36[1.0]-37[1.0]-38[1.0]-48[1.0]-50[1.0]-52[1....\n",
      "[19:00:26] < Warning >   The chosen alternative [`1.0`] is not available for the following observations (rownumber[choice]): 4[1.0]-20[1.0]-24[1.0]-25[1.0]-31[1.0]-32[1.0]-33[1.0]-36[1.0]-37[1.0]-38[1.0]-48[1.0]-50[1.0]-52[1....\n",
      "[19:00:27] < Warning >   The chosen alternative [`1.0`] is not available for the following observations (rownumber[choice]): 4[1.0]-20[1.0]-24[1.0]-25[1.0]-31[1.0]-32[1.0]-33[1.0]-36[1.0]-37[1.0]-38[1.0]-48[1.0]-50[1.0]-52[1....\n",
      "[19:00:27] < Warning >   The chosen alternative [`1.0`] is not available for the following observations (rownumber[choice]): 4[1.0]-20[1.0]-24[1.0]-25[1.0]-31[1.0]-32[1.0]-33[1.0]-36[1.0]-37[1.0]-38[1.0]-48[1.0]-50[1.0]-52[1....\n",
      "[19:00:27] < Warning >   The chosen alternative [`1.0`] is not available for the following observations (rownumber[choice]): 4[1.0]-20[1.0]-24[1.0]-25[1.0]-31[1.0]-32[1.0]-33[1.0]-36[1.0]-37[1.0]-38[1.0]-48[1.0]-50[1.0]-52[1....\n",
      "[19:00:27] < Warning >   The chosen alternative [`1.0`] is not available for the following observations (rownumber[choice]): 4[1.0]-20[1.0]-24[1.0]-25[1.0]-31[1.0]-32[1.0]-33[1.0]-36[1.0]-37[1.0]-38[1.0]-48[1.0]-50[1.0]-52[1....\n",
      "[19:00:28] < Warning >   The chosen alternative [`1.0`] is not available for the following observations (rownumber[choice]): 4[1.0]-20[1.0]-24[1.0]-25[1.0]-31[1.0]-32[1.0]-33[1.0]-36[1.0]-37[1.0]-38[1.0]-48[1.0]-50[1.0]-52[1....\n",
      "[19:00:28] < Warning >   The chosen alternative [`1.0`] is not available for the following observations (rownumber[choice]): 4[1.0]-20[1.0]-24[1.0]-25[1.0]-31[1.0]-32[1.0]-33[1.0]-36[1.0]-37[1.0]-38[1.0]-48[1.0]-50[1.0]-52[1....\n",
      "[19:00:28] < Warning >   The chosen alternative [`1.0`] is not available for the following observations (rownumber[choice]): 4[1.0]-20[1.0]-24[1.0]-25[1.0]-31[1.0]-32[1.0]-33[1.0]-36[1.0]-37[1.0]-38[1.0]-48[1.0]-50[1.0]-52[1....\n",
      "[19:00:28] < Warning >   The chosen alternative [`1.0`] is not available for the following observations (rownumber[choice]): 4[1.0]-20[1.0]-24[1.0]-25[1.0]-31[1.0]-32[1.0]-33[1.0]-36[1.0]-37[1.0]-38[1.0]-48[1.0]-50[1.0]-52[1....\n",
      "[19:00:29] < Warning >   The chosen alternative [`1.0`] is not available for the following observations (rownumber[choice]): 4[1.0]-20[1.0]-24[1.0]-25[1.0]-31[1.0]-32[1.0]-33[1.0]-36[1.0]-37[1.0]-38[1.0]-48[1.0]-50[1.0]-52[1....\n",
      "[19:00:29] < Warning >   The chosen alternative [`1.0`] is not available for the following observations (rownumber[choice]): 4[1.0]-20[1.0]-24[1.0]-25[1.0]-31[1.0]-32[1.0]-33[1.0]-36[1.0]-37[1.0]-38[1.0]-48[1.0]-50[1.0]-52[1....\n",
      "[19:00:29] < Warning >   The chosen alternative [`1.0`] is not available for the following observations (rownumber[choice]): 4[1.0]-20[1.0]-24[1.0]-25[1.0]-31[1.0]-32[1.0]-33[1.0]-36[1.0]-37[1.0]-38[1.0]-48[1.0]-50[1.0]-52[1....\n",
      "[19:00:29] < Warning >   The chosen alternative [`1.0`] is not available for the following observations (rownumber[choice]): 4[1.0]-20[1.0]-24[1.0]-25[1.0]-31[1.0]-32[1.0]-33[1.0]-36[1.0]-37[1.0]-38[1.0]-48[1.0]-50[1.0]-52[1....\n",
      "[19:00:30] < Warning >   The chosen alternative [`1.0`] is not available for the following observations (rownumber[choice]): 4[1.0]-20[1.0]-24[1.0]-25[1.0]-31[1.0]-32[1.0]-33[1.0]-36[1.0]-37[1.0]-38[1.0]-48[1.0]-50[1.0]-52[1....\n",
      "[19:00:30] < Warning >   The chosen alternative [`1.0`] is not available for the following observations (rownumber[choice]): 4[1.0]-20[1.0]-24[1.0]-25[1.0]-31[1.0]-32[1.0]-33[1.0]-36[1.0]-37[1.0]-38[1.0]-48[1.0]-50[1.0]-52[1....\n",
      "[19:00:30] < Warning >   The chosen alternative [`1.0`] is not available for the following observations (rownumber[choice]): 4[1.0]-20[1.0]-24[1.0]-25[1.0]-31[1.0]-32[1.0]-33[1.0]-36[1.0]-37[1.0]-38[1.0]-48[1.0]-50[1.0]-52[1....\n",
      "[19:00:30] < Warning >   The chosen alternative [`1.0`] is not available for the following observations (rownumber[choice]): 4[1.0]-20[1.0]-24[1.0]-25[1.0]-31[1.0]-32[1.0]-33[1.0]-36[1.0]-37[1.0]-38[1.0]-48[1.0]-50[1.0]-52[1....\n",
      "[19:00:31] < Warning >   The chosen alternative [`1.0`] is not available for the following observations (rownumber[choice]): 4[1.0]-20[1.0]-24[1.0]-25[1.0]-31[1.0]-32[1.0]-33[1.0]-36[1.0]-37[1.0]-38[1.0]-48[1.0]-50[1.0]-52[1....\n",
      "[19:00:31] < Warning >   The chosen alternative [`1.0`] is not available for the following observations (rownumber[choice]): 4[1.0]-20[1.0]-24[1.0]-25[1.0]-31[1.0]-32[1.0]-33[1.0]-36[1.0]-37[1.0]-38[1.0]-48[1.0]-50[1.0]-52[1....\n",
      "[19:00:31] < Warning >   The chosen alternative [`1.0`] is not available for the following observations (rownumber[choice]): 4[1.0]-20[1.0]-24[1.0]-25[1.0]-31[1.0]-32[1.0]-33[1.0]-36[1.0]-37[1.0]-38[1.0]-48[1.0]-50[1.0]-52[1....\n",
      "[19:00:32] < Warning >   The chosen alternative [`1.0`] is not available for the following observations (rownumber[choice]): 4[1.0]-20[1.0]-24[1.0]-25[1.0]-31[1.0]-32[1.0]-33[1.0]-36[1.0]-37[1.0]-38[1.0]-48[1.0]-50[1.0]-52[1....\n",
      "[19:00:32] < Warning >   The chosen alternative [`1.0`] is not available for the following observations (rownumber[choice]): 4[1.0]-20[1.0]-24[1.0]-25[1.0]-31[1.0]-32[1.0]-33[1.0]-36[1.0]-37[1.0]-38[1.0]-48[1.0]-50[1.0]-52[1....\n",
      "[19:00:32] < Warning >   The chosen alternative [`1.0`] is not available for the following observations (rownumber[choice]): 4[1.0]-20[1.0]-24[1.0]-25[1.0]-31[1.0]-32[1.0]-33[1.0]-36[1.0]-37[1.0]-38[1.0]-48[1.0]-50[1.0]-52[1....\n",
      "[19:00:32] < Warning >   The chosen alternative [`1.0`] is not available for the following observations (rownumber[choice]): 4[1.0]-20[1.0]-24[1.0]-25[1.0]-31[1.0]-32[1.0]-33[1.0]-36[1.0]-37[1.0]-38[1.0]-48[1.0]-50[1.0]-52[1....\n",
      "[19:00:33] < Warning >   The chosen alternative [`1.0`] is not available for the following observations (rownumber[choice]): 4[1.0]-20[1.0]-24[1.0]-25[1.0]-31[1.0]-32[1.0]-33[1.0]-36[1.0]-37[1.0]-38[1.0]-48[1.0]-50[1.0]-52[1....\n",
      "[19:00:33] < Warning >   The chosen alternative [`1.0`] is not available for the following observations (rownumber[choice]): 4[1.0]-20[1.0]-24[1.0]-25[1.0]-31[1.0]-32[1.0]-33[1.0]-36[1.0]-37[1.0]-38[1.0]-48[1.0]-50[1.0]-52[1....\n",
      "[19:00:33] < Warning >   The chosen alternative [`1.0`] is not available for the following observations (rownumber[choice]): 4[1.0]-20[1.0]-24[1.0]-25[1.0]-31[1.0]-32[1.0]-33[1.0]-36[1.0]-37[1.0]-38[1.0]-48[1.0]-50[1.0]-52[1....\n",
      "[19:00:33] < Warning >   The chosen alternative [`1.0`] is not available for the following observations (rownumber[choice]): 4[1.0]-20[1.0]-24[1.0]-25[1.0]-31[1.0]-32[1.0]-33[1.0]-36[1.0]-37[1.0]-38[1.0]-48[1.0]-50[1.0]-52[1....\n",
      "[19:00:34] < Warning >   The chosen alternative [`1.0`] is not available for the following observations (rownumber[choice]): 4[1.0]-20[1.0]-24[1.0]-25[1.0]-31[1.0]-32[1.0]-33[1.0]-36[1.0]-37[1.0]-38[1.0]-48[1.0]-50[1.0]-52[1....\n",
      "[19:00:34] < Warning >   The chosen alternative [`1.0`] is not available for the following observations (rownumber[choice]): 4[1.0]-20[1.0]-24[1.0]-25[1.0]-31[1.0]-32[1.0]-33[1.0]-36[1.0]-37[1.0]-38[1.0]-48[1.0]-50[1.0]-52[1....\n",
      "[19:00:34] < Warning >   The chosen alternative [`1.0`] is not available for the following observations (rownumber[choice]): 4[1.0]-20[1.0]-24[1.0]-25[1.0]-31[1.0]-32[1.0]-33[1.0]-36[1.0]-37[1.0]-38[1.0]-48[1.0]-50[1.0]-52[1....\n",
      "[19:00:34] < Warning >   The chosen alternative [`1.0`] is not available for the following observations (rownumber[choice]): 4[1.0]-20[1.0]-24[1.0]-25[1.0]-31[1.0]-32[1.0]-33[1.0]-36[1.0]-37[1.0]-38[1.0]-48[1.0]-50[1.0]-52[1....\n",
      "[19:00:35] < Warning >   The chosen alternative [`1.0`] is not available for the following observations (rownumber[choice]): 4[1.0]-20[1.0]-24[1.0]-25[1.0]-31[1.0]-32[1.0]-33[1.0]-36[1.0]-37[1.0]-38[1.0]-48[1.0]-50[1.0]-52[1....\n",
      "[19:00:35] < Warning >   The chosen alternative [`1.0`] is not available for the following observations (rownumber[choice]): 4[1.0]-20[1.0]-24[1.0]-25[1.0]-31[1.0]-32[1.0]-33[1.0]-36[1.0]-37[1.0]-38[1.0]-48[1.0]-50[1.0]-52[1....\n",
      "[19:00:35] < Warning >   The chosen alternative [`1.0`] is not available for the following observations (rownumber[choice]): 4[1.0]-20[1.0]-24[1.0]-25[1.0]-31[1.0]-32[1.0]-33[1.0]-36[1.0]-37[1.0]-38[1.0]-48[1.0]-50[1.0]-52[1....\n",
      "[19:00:35] < Warning >   The chosen alternative [`1.0`] is not available for the following observations (rownumber[choice]): 4[1.0]-20[1.0]-24[1.0]-25[1.0]-31[1.0]-32[1.0]-33[1.0]-36[1.0]-37[1.0]-38[1.0]-48[1.0]-50[1.0]-52[1....\n",
      "[19:00:36] < Warning >   The chosen alternative [`1.0`] is not available for the following observations (rownumber[choice]): 4[1.0]-20[1.0]-24[1.0]-25[1.0]-31[1.0]-32[1.0]-33[1.0]-36[1.0]-37[1.0]-38[1.0]-48[1.0]-50[1.0]-52[1....\n",
      "[19:00:36] < Warning >   The chosen alternative [`1.0`] is not available for the following observations (rownumber[choice]): 4[1.0]-20[1.0]-24[1.0]-25[1.0]-31[1.0]-32[1.0]-33[1.0]-36[1.0]-37[1.0]-38[1.0]-48[1.0]-50[1.0]-52[1....\n",
      "[19:00:36] < Warning >   The chosen alternative [`1.0`] is not available for the following observations (rownumber[choice]): 4[1.0]-20[1.0]-24[1.0]-25[1.0]-31[1.0]-32[1.0]-33[1.0]-36[1.0]-37[1.0]-38[1.0]-48[1.0]-50[1.0]-52[1....\n",
      "[19:00:36] < Warning >   The chosen alternative [`1.0`] is not available for the following observations (rownumber[choice]): 4[1.0]-20[1.0]-24[1.0]-25[1.0]-31[1.0]-32[1.0]-33[1.0]-36[1.0]-37[1.0]-38[1.0]-48[1.0]-50[1.0]-52[1....\n",
      "[19:00:37] < Warning >   The chosen alternative [`1.0`] is not available for the following observations (rownumber[choice]): 4[1.0]-20[1.0]-24[1.0]-25[1.0]-31[1.0]-32[1.0]-33[1.0]-36[1.0]-37[1.0]-38[1.0]-48[1.0]-50[1.0]-52[1....\n",
      "[19:00:37] < Warning >   The chosen alternative [`1.0`] is not available for the following observations (rownumber[choice]): 4[1.0]-20[1.0]-24[1.0]-25[1.0]-31[1.0]-32[1.0]-33[1.0]-36[1.0]-37[1.0]-38[1.0]-48[1.0]-50[1.0]-52[1....\n",
      "[19:00:37] < Warning >   The chosen alternative [`1.0`] is not available for the following observations (rownumber[choice]): 4[1.0]-20[1.0]-24[1.0]-25[1.0]-31[1.0]-32[1.0]-33[1.0]-36[1.0]-37[1.0]-38[1.0]-48[1.0]-50[1.0]-52[1....\n",
      "[19:00:37] < Warning >   The chosen alternative [`1.0`] is not available for the following observations (rownumber[choice]): 4[1.0]-20[1.0]-24[1.0]-25[1.0]-31[1.0]-32[1.0]-33[1.0]-36[1.0]-37[1.0]-38[1.0]-48[1.0]-50[1.0]-52[1....\n",
      "[19:00:38] < Warning >   The chosen alternative [`1.0`] is not available for the following observations (rownumber[choice]): 4[1.0]-20[1.0]-24[1.0]-25[1.0]-31[1.0]-32[1.0]-33[1.0]-36[1.0]-37[1.0]-38[1.0]-48[1.0]-50[1.0]-52[1....\n",
      "[19:00:38] < Warning >   The chosen alternative [`1.0`] is not available for the following observations (rownumber[choice]): 4[1.0]-20[1.0]-24[1.0]-25[1.0]-31[1.0]-32[1.0]-33[1.0]-36[1.0]-37[1.0]-38[1.0]-48[1.0]-50[1.0]-52[1....\n",
      "[19:00:38] < Warning >   The chosen alternative [`1.0`] is not available for the following observations (rownumber[choice]): 4[1.0]-20[1.0]-24[1.0]-25[1.0]-31[1.0]-32[1.0]-33[1.0]-36[1.0]-37[1.0]-38[1.0]-48[1.0]-50[1.0]-52[1....\n",
      "[19:00:38] < Warning >   The chosen alternative [`1.0`] is not available for the following observations (rownumber[choice]): 4[1.0]-20[1.0]-24[1.0]-25[1.0]-31[1.0]-32[1.0]-33[1.0]-36[1.0]-37[1.0]-38[1.0]-48[1.0]-50[1.0]-52[1....\n",
      "[19:00:39] < Warning >   The chosen alternative [`1.0`] is not available for the following observations (rownumber[choice]): 4[1.0]-20[1.0]-24[1.0]-25[1.0]-31[1.0]-32[1.0]-33[1.0]-36[1.0]-37[1.0]-38[1.0]-48[1.0]-50[1.0]-52[1....\n",
      "[19:00:39] < Warning >   The chosen alternative [`1.0`] is not available for the following observations (rownumber[choice]): 4[1.0]-20[1.0]-24[1.0]-25[1.0]-31[1.0]-32[1.0]-33[1.0]-36[1.0]-37[1.0]-38[1.0]-48[1.0]-50[1.0]-52[1....\n",
      "[19:00:39] < Warning >   The chosen alternative [`1.0`] is not available for the following observations (rownumber[choice]): 4[1.0]-20[1.0]-24[1.0]-25[1.0]-31[1.0]-32[1.0]-33[1.0]-36[1.0]-37[1.0]-38[1.0]-48[1.0]-50[1.0]-52[1....\n",
      "[19:00:39] < Warning >   The chosen alternative [`1.0`] is not available for the following observations (rownumber[choice]): 4[1.0]-20[1.0]-24[1.0]-25[1.0]-31[1.0]-32[1.0]-33[1.0]-36[1.0]-37[1.0]-38[1.0]-48[1.0]-50[1.0]-52[1....\n",
      "[19:00:40] < Warning >   The chosen alternative [`1.0`] is not available for the following observations (rownumber[choice]): 4[1.0]-20[1.0]-24[1.0]-25[1.0]-31[1.0]-32[1.0]-33[1.0]-36[1.0]-37[1.0]-38[1.0]-48[1.0]-50[1.0]-52[1....\n",
      "[19:00:40] < Warning >   The chosen alternative [`1.0`] is not available for the following observations (rownumber[choice]): 4[1.0]-20[1.0]-24[1.0]-25[1.0]-31[1.0]-32[1.0]-33[1.0]-36[1.0]-37[1.0]-38[1.0]-48[1.0]-50[1.0]-52[1....\n",
      "[19:00:40] < Warning >   The chosen alternative [`1.0`] is not available for the following observations (rownumber[choice]): 4[1.0]-20[1.0]-24[1.0]-25[1.0]-31[1.0]-32[1.0]-33[1.0]-36[1.0]-37[1.0]-38[1.0]-48[1.0]-50[1.0]-52[1....\n",
      "[19:00:40] < Warning >   The chosen alternative [`1.0`] is not available for the following observations (rownumber[choice]): 4[1.0]-20[1.0]-24[1.0]-25[1.0]-31[1.0]-32[1.0]-33[1.0]-36[1.0]-37[1.0]-38[1.0]-48[1.0]-50[1.0]-52[1....\n",
      "[19:00:41] < Warning >   The chosen alternative [`1.0`] is not available for the following observations (rownumber[choice]): 4[1.0]-20[1.0]-24[1.0]-25[1.0]-31[1.0]-32[1.0]-33[1.0]-36[1.0]-37[1.0]-38[1.0]-48[1.0]-50[1.0]-52[1....\n",
      "[19:00:41] < Warning >   The chosen alternative [`1.0`] is not available for the following observations (rownumber[choice]): 4[1.0]-20[1.0]-24[1.0]-25[1.0]-31[1.0]-32[1.0]-33[1.0]-36[1.0]-37[1.0]-38[1.0]-48[1.0]-50[1.0]-52[1....\n",
      "[19:00:41] < Warning >   The chosen alternative [`1.0`] is not available for the following observations (rownumber[choice]): 4[1.0]-20[1.0]-24[1.0]-25[1.0]-31[1.0]-32[1.0]-33[1.0]-36[1.0]-37[1.0]-38[1.0]-48[1.0]-50[1.0]-52[1....\n",
      "[19:00:41] < Warning >   The chosen alternative [`1.0`] is not available for the following observations (rownumber[choice]): 4[1.0]-20[1.0]-24[1.0]-25[1.0]-31[1.0]-32[1.0]-33[1.0]-36[1.0]-37[1.0]-38[1.0]-48[1.0]-50[1.0]-52[1....\n",
      "[19:00:42] < Warning >   The chosen alternative [`1.0`] is not available for the following observations (rownumber[choice]): 4[1.0]-20[1.0]-24[1.0]-25[1.0]-31[1.0]-32[1.0]-33[1.0]-36[1.0]-37[1.0]-38[1.0]-48[1.0]-50[1.0]-52[1....\n",
      "[19:00:42] < Warning >   The chosen alternative [`1.0`] is not available for the following observations (rownumber[choice]): 4[1.0]-20[1.0]-24[1.0]-25[1.0]-31[1.0]-32[1.0]-33[1.0]-36[1.0]-37[1.0]-38[1.0]-48[1.0]-50[1.0]-52[1....\n",
      "[19:00:42] < Warning >   The chosen alternative [`1.0`] is not available for the following observations (rownumber[choice]): 4[1.0]-20[1.0]-24[1.0]-25[1.0]-31[1.0]-32[1.0]-33[1.0]-36[1.0]-37[1.0]-38[1.0]-48[1.0]-50[1.0]-52[1....\n",
      "[19:00:42] < Warning >   The chosen alternative [`1.0`] is not available for the following observations (rownumber[choice]): 4[1.0]-20[1.0]-24[1.0]-25[1.0]-31[1.0]-32[1.0]-33[1.0]-36[1.0]-37[1.0]-38[1.0]-48[1.0]-50[1.0]-52[1....\n",
      "[19:00:43] < Warning >   The chosen alternative [`1.0`] is not available for the following observations (rownumber[choice]): 4[1.0]-20[1.0]-24[1.0]-25[1.0]-31[1.0]-32[1.0]-33[1.0]-36[1.0]-37[1.0]-38[1.0]-48[1.0]-50[1.0]-52[1....\n",
      "[19:00:43] < Warning >   The chosen alternative [`1.0`] is not available for the following observations (rownumber[choice]): 4[1.0]-20[1.0]-24[1.0]-25[1.0]-31[1.0]-32[1.0]-33[1.0]-36[1.0]-37[1.0]-38[1.0]-48[1.0]-50[1.0]-52[1....\n",
      "[19:00:43] < Warning >   The chosen alternative [`1.0`] is not available for the following observations (rownumber[choice]): 4[1.0]-20[1.0]-24[1.0]-25[1.0]-31[1.0]-32[1.0]-33[1.0]-36[1.0]-37[1.0]-38[1.0]-48[1.0]-50[1.0]-52[1....\n",
      "[19:00:43] < Warning >   The chosen alternative [`1.0`] is not available for the following observations (rownumber[choice]): 4[1.0]-20[1.0]-24[1.0]-25[1.0]-31[1.0]-32[1.0]-33[1.0]-36[1.0]-37[1.0]-38[1.0]-48[1.0]-50[1.0]-52[1....\n",
      "[19:00:44] < Warning >   The chosen alternative [`1.0`] is not available for the following observations (rownumber[choice]): 4[1.0]-20[1.0]-24[1.0]-25[1.0]-31[1.0]-32[1.0]-33[1.0]-36[1.0]-37[1.0]-38[1.0]-48[1.0]-50[1.0]-52[1....\n",
      "[19:00:44] < Warning >   The chosen alternative [`1.0`] is not available for the following observations (rownumber[choice]): 4[1.0]-20[1.0]-24[1.0]-25[1.0]-31[1.0]-32[1.0]-33[1.0]-36[1.0]-37[1.0]-38[1.0]-48[1.0]-50[1.0]-52[1....\n",
      "[19:00:44] < Warning >   The chosen alternative [`1.0`] is not available for the following observations (rownumber[choice]): 4[1.0]-20[1.0]-24[1.0]-25[1.0]-31[1.0]-32[1.0]-33[1.0]-36[1.0]-37[1.0]-38[1.0]-48[1.0]-50[1.0]-52[1....\n",
      "Market share for Walk: 16.6% [15.5%, 17.7%]\n",
      "Market share for Cycle: 3.0% [2.5%, 3.7%]\n",
      "Market share for Public transportation: 35.8% [33.7%, 37.9%]\n",
      "Market share for Drive: 44.6% [42.3%, 46.8%]\n"
     ]
    }
   ],
   "source": [
    "ms = market_share(V4)\n",
    "for k, v in ms.items():\n",
    "    print(\n",
    "        f'Market share for {k}: {100*v.value:.1f}% '\n",
    "        f'[{100*v.lower:.1f}%, '\n",
    "        f'{100*v.upper:.1f}%]'\n",
    "    )"
   ]
  },
  {
   "cell_type": "markdown",
   "id": "2912b224-8062-4769-bd09-d4dbfcd4ec55",
   "metadata": {},
   "source": [
    "scenario (i) : increase of car cost by 15%, market shares"
   ]
  },
  {
   "cell_type": "code",
   "execution_count": 63,
   "id": "bf701cc2-3d7c-4487-9f3d-a0295be3b3df",
   "metadata": {},
   "outputs": [
    {
     "name": "stdout",
     "output_type": "stream",
     "text": [
      "Market share for walk: 16.6%\n",
      "Market share for cycle: 3.0%\n",
      "Market share for PT: 36.1%\n",
      "Market share for drive: 44.3%\n"
     ]
    }
   ],
   "source": [
    "asc_cycle4 = Beta('asc_cycle4', 0, None, None, 0)\n",
    "asc_pt4 = Beta('asc_pt4', 0, None, None, 0)\n",
    "asc_driving4 = Beta('asc_driving4', 0, None, None, 0)\n",
    "\n",
    "thresholds = [0,18,65,None]\n",
    "\n",
    "beta_cost_youngold = Beta('beta_cost_youngold', 0, None, None, 0)\n",
    "beta_cost_middleage = Beta('beta_cost_middleage', 0, None, None, 0)\n",
    "#beta_cost_50_100 = Beta('beta_cost_50_100',0,None,None,0)\n",
    "\n",
    "betas_piecewise = [beta_cost_youngold, beta_cost_middleage, beta_cost_youngold]\n",
    "\n",
    "piecewise_age = models.piecewiseFormula(\n",
    "    'age', thresholds, betas_piecewise\n",
    ")\n",
    "\n",
    "beta_traffic = Beta('beta_traffic',0,None,None,0)\n",
    "\n",
    "beta_time_walk4 = Beta('beta_time_walk4', 0, None, None, 0)\n",
    "beta_time_cycl4 = Beta('beta_time_cycl4', 0, None, None, 0)\n",
    "beta_time_pt4 = Beta('beta_time_pt4', 0, None, None, 0)\n",
    "beta_time_driv4 = Beta('beta_time_driv4', 0, None, None, 0)\n",
    "\n",
    "lambda_cox = Beta('lambda_cox', 0, None, None, 0)\n",
    "\n",
    "Opt5_walk = (    \n",
    "    beta_time_walk4*models.boxcox(dur_walking, lambda_cox)\n",
    ")\n",
    "Opt5_cycle = (    \n",
    "    asc_cycle4 + beta_time_cycl4*models.boxcox(dur_cycling, lambda_cox)\n",
    ")\n",
    "Opt5_pt = (    \n",
    "    asc_pt4 + beta_time_pt4*models.boxcox(dur_pt, lambda_cox) \n",
    "    + piecewise_age*cost_transit/age #+ beta_pt_interchanges3*pt_interchanges\n",
    ")\n",
    "Opt5_driv = (    \n",
    "    asc_driving4 + beta_time_driv4*models.boxcox(dur_driving, lambda_cox) \n",
    "    + piecewise_age*cost_driving*1.15/age + beta_traffic*driving_traffic_percent\n",
    ")\n",
    "\n",
    "V5 = {1: Opt5_walk, 2: Opt5_cycle, 3: Opt5_pt, 4: Opt5_driv}\n",
    "\n",
    "####\n",
    "\n",
    "# Define the nests\n",
    "mu_a = Beta('mu_a', 1, 0, None, 0)\n",
    "mu_b = Beta('mu_b', 1, 0, None, 0)\n",
    "nest_a = mu_a, [1, 3] # 1 and 3 refers to walk and pt as in the dictionary V1\n",
    "nest_b = mu_b, [2, 4]\n",
    "nests = nest_a, nest_b\n",
    "#availability\n",
    "av = None\n",
    "logprob4 = models.lognested(V5, None, nests, travel_mode)\n",
    "biogeme4 = bio.BIOGEME(database, logprob4)\n",
    "biogeme4.modelName = 'logit_lpmc07_as'\n",
    "results4 = biogeme4.estimate()\n",
    "\n",
    "####\n",
    "\n",
    "prob_WALK1 = models.logit(V5, None, 1)    #QUESTION logit?\n",
    "prob_CYCLE1 = models.logit(V5, None, 2)\n",
    "prob_PT1 = models.logit(V5, None, 3)\n",
    "prob_DRIVE1 = models.logit(V5, None, 4)\n",
    "\n",
    "simulate1 = {\n",
    "    'Weight': Weight,\n",
    "    'Prob. walk': prob_WALK1,\n",
    "    'Prob. cycle': prob_CYCLE1,\n",
    "    'Prob. PT': prob_PT1,\n",
    "    'Prob. drive' : prob_DRIVE1,\n",
    "}\n",
    "biosim = bio.BIOGEME(database, simulate1)\n",
    "simulated_values1 = biosim.simulate(results.getBetaValues())\n",
    "\n",
    "####\n",
    "\n",
    "## Alternative walk\n",
    "simulated_values1['Weighted prob. walk'] = (\n",
    "    simulated_values1['Weight'] * simulated_values1['Prob. walk']\n",
    ")\n",
    "marketShare_walk1 = simulated_values1['Weighted prob. walk'].mean()\n",
    "    \n",
    "## Alternative cycle\n",
    "simulated_values1['Weighted prob. cycle'] = (\n",
    "    simulated_values1['Weight'] * simulated_values1['Prob. cycle']\n",
    ")\n",
    "marketShare_cycle1 = simulated_values1['Weighted prob. cycle'].mean()\n",
    "\n",
    "## Alternative public transportation\n",
    "simulated_values1['Weighted prob. PT'] = (\n",
    "    simulated_values1['Weight'] * simulated_values1['Prob. PT']\n",
    ")\n",
    "marketShare_PT1 = simulated_values1['Weighted prob. PT'].mean()\n",
    "\n",
    "## Alternative drive\n",
    "simulated_values1['Weighted prob. drive'] = (\n",
    "    simulated_values1['Weight'] * simulated_values1['Prob. drive']\n",
    ")\n",
    "marketShare_drive1 = simulated_values1['Weighted prob. drive'].mean()\n",
    "\n",
    "####\n",
    "\n",
    "print(f'Market share for walk: {100*marketShare_walk1:.1f}%')\n",
    "print(f'Market share for cycle: {100*marketShare_cycle1:.1f}%')\n",
    "print(f'Market share for PT: {100*marketShare_PT1:.1f}%')\n",
    "print(f'Market share for drive: {100*marketShare_drive1:.1f}%')"
   ]
  },
  {
   "cell_type": "markdown",
   "id": "7d1f844e-836f-44ed-ade4-b54cbee13f98",
   "metadata": {},
   "source": [
    "scenario (ii) : decrease of PT cost by 15%, market shares"
   ]
  },
  {
   "cell_type": "code",
   "execution_count": 64,
   "id": "90cca52b-d235-4aea-b65e-319723625be4",
   "metadata": {},
   "outputs": [
    {
     "name": "stdout",
     "output_type": "stream",
     "text": [
      "Market share for walk: 16.5%\n",
      "Market share for cycle: 3.0%\n",
      "Market share for PT: 36.2%\n",
      "Market share for drive: 44.3%\n"
     ]
    }
   ],
   "source": [
    "asc_cycle4 = Beta('asc_cycle4', 0, None, None, 0)\n",
    "asc_pt4 = Beta('asc_pt4', 0, None, None, 0)\n",
    "asc_driving4 = Beta('asc_driving4', 0, None, None, 0)\n",
    "\n",
    "thresholds = [0,18,65,None]\n",
    "\n",
    "beta_cost_youngold = Beta('beta_cost_youngold', 0, None, None, 0)\n",
    "beta_cost_middleage = Beta('beta_cost_middleage', 0, None, None, 0)\n",
    "#beta_cost_50_100 = Beta('beta_cost_50_100',0,None,None,0)\n",
    "\n",
    "betas_piecewise = [beta_cost_youngold, beta_cost_middleage, beta_cost_youngold]\n",
    "\n",
    "piecewise_age = models.piecewiseFormula(\n",
    "    'age', thresholds, betas_piecewise\n",
    ")\n",
    "\n",
    "beta_traffic = Beta('beta_traffic',0,None,None,0)\n",
    "\n",
    "beta_time_walk4 = Beta('beta_time_walk4', 0, None, None, 0)\n",
    "beta_time_cycl4 = Beta('beta_time_cycl4', 0, None, None, 0)\n",
    "beta_time_pt4 = Beta('beta_time_pt4', 0, None, None, 0)\n",
    "beta_time_driv4 = Beta('beta_time_driv4', 0, None, None, 0)\n",
    "\n",
    "lambda_cox = Beta('lambda_cox', 0, None, None, 0)\n",
    "\n",
    "Opt6_walk = (    \n",
    "    beta_time_walk4*models.boxcox(dur_walking, lambda_cox)\n",
    ")\n",
    "Opt6_cycle = (    \n",
    "    asc_cycle4 + beta_time_cycl4*models.boxcox(dur_cycling, lambda_cox)\n",
    ")\n",
    "Opt6_pt = (    \n",
    "    asc_pt4 + beta_time_pt4*models.boxcox(dur_pt, lambda_cox) \n",
    "    + piecewise_age*cost_transit*0.85/age #+ beta_pt_interchanges3*pt_interchanges\n",
    ")\n",
    "Opt6_driv = (    \n",
    "    asc_driving4 + beta_time_driv4*models.boxcox(dur_driving, lambda_cox) \n",
    "    + piecewise_age*cost_driving/age + beta_traffic*driving_traffic_percent\n",
    ")\n",
    "\n",
    "V6 = {1: Opt6_walk, 2: Opt6_cycle, 3: Opt6_pt, 4: Opt6_driv}\n",
    "\n",
    "####\n",
    "\n",
    "# Define the nests\n",
    "mu_a = Beta('mu_a', 1, 0, None, 0)\n",
    "mu_b = Beta('mu_b', 1, 0, None, 0)\n",
    "nest_a = mu_a, [1, 3] # 1 and 3 refers to walk and pt as in the dictionary V1\n",
    "nest_b = mu_b, [2, 4]\n",
    "nests = nest_a, nest_b\n",
    "#availability\n",
    "av = None\n",
    "logprob4 = models.lognested(V5, None, nests, travel_mode)\n",
    "biogeme4 = bio.BIOGEME(database, logprob4)\n",
    "biogeme4.modelName = 'logit_lpmc07_as'\n",
    "results4 = biogeme4.estimate()\n",
    "\n",
    "####\n",
    "\n",
    "prob_WALK2 = models.logit(V6, None, 1)    #QUESTION logit?\n",
    "prob_CYCLE2 = models.logit(V6, None, 2)\n",
    "prob_PT2 = models.logit(V6, None, 3)\n",
    "prob_DRIVE2 = models.logit(V6, None, 4)\n",
    "\n",
    "simulate2 = {\n",
    "    'Weight': Weight,\n",
    "    'Prob. walk': prob_WALK2,\n",
    "    'Prob. cycle': prob_CYCLE2,\n",
    "    'Prob. PT': prob_PT2,\n",
    "    'Prob. drive' : prob_DRIVE2,\n",
    "}\n",
    "biosim = bio.BIOGEME(database, simulate2)\n",
    "simulated_values2 = biosim.simulate(results.getBetaValues())\n",
    "\n",
    "####\n",
    "\n",
    "## Alternative walk\n",
    "simulated_values2['Weighted prob. walk'] = (\n",
    "    simulated_values2['Weight'] * simulated_values2['Prob. walk']\n",
    ")\n",
    "marketShare_walk2 = simulated_values2['Weighted prob. walk'].mean()\n",
    "    \n",
    "## Alternative cycle\n",
    "simulated_values2['Weighted prob. cycle'] = (\n",
    "    simulated_values2['Weight'] * simulated_values2['Prob. cycle']\n",
    ")\n",
    "marketShare_cycle2 = simulated_values2['Weighted prob. cycle'].mean()\n",
    "\n",
    "## Alternative public transportation\n",
    "simulated_values2['Weighted prob. PT'] = (\n",
    "    simulated_values2['Weight'] * simulated_values2['Prob. PT']\n",
    ")\n",
    "marketShare_PT2 = simulated_values2['Weighted prob. PT'].mean()\n",
    "\n",
    "## Alternative drive\n",
    "simulated_values2['Weighted prob. drive'] = (\n",
    "    simulated_values2['Weight'] * simulated_values2['Prob. drive']\n",
    ")\n",
    "marketShare_drive2 = simulated_values2['Weighted prob. drive'].mean()\n",
    "\n",
    "####\n",
    "\n",
    "print(f'Market share for walk: {100*marketShare_walk2:.1f}%')\n",
    "print(f'Market share for cycle: {100*marketShare_cycle2:.1f}%')\n",
    "print(f'Market share for PT: {100*marketShare_PT2:.1f}%')\n",
    "print(f'Market share for drive: {100*marketShare_drive2:.1f}%')"
   ]
  },
  {
   "cell_type": "markdown",
   "id": "cf38fac1",
   "metadata": {},
   "source": [
    "# VALUE OF TIME"
   ]
  },
  {
   "cell_type": "code",
   "execution_count": 68,
   "id": "a046f3f8",
   "metadata": {},
   "outputs": [
    {
     "name": "stdout",
     "output_type": "stream",
     "text": [
      "average value of time for the young or old who are driving (GBP / hour):\n",
      "67.54971196595159\n",
      "\n",
      "average value of time for the middleaged who are driving (GBP / hour):\n",
      "153.29789197599447\n",
      "\n",
      "average value of time for the young or old who use public transport (GBP / hour):\n",
      "40.208109218574634\n",
      "\n",
      "average value of time for the middleaged who use public trasnport (GBP / hour):\n",
      "95.49167939324131\n",
      "\n",
      "average value of time for anyone driving (GBP / hour):\n",
      "110.42380197097303\n",
      "\n",
      "average value of time for anyone using public transport (GBP / hour):\n",
      "67.84989430590798\n"
     ]
    }
   ],
   "source": [
    "# you need to run Model 4 before this\n",
    "\n",
    "#retrieve data from the database and from results of Model 4\n",
    "dataframe = database.data\n",
    "betas = results4.getBetaValues()\n",
    "\n",
    "beta_time_driv4 = betas[\"beta_time_driv4\"]\n",
    "beta_time_pt4 = betas[\"beta_time_pt4\"]\n",
    "beta_cost_youngold = betas[\"beta_cost_youngold\"]\n",
    "beta_cost_middleage = betas[\"beta_cost_middleage\"]\n",
    "lambda_cox = betas[\"lambda_cox\"]\n",
    "\n",
    "# prepare the data\n",
    "# boolean list. if young_old_indexes[n]=True, then person n is younger than 18 or older than 61\n",
    "young_old_indexes = np.any([dataframe[\"age\"] <= 18, dataframe[\"age\"] > 61], axis=0)\n",
    "middleage_indexes = np.all([dataframe[\"age\"] > 18, dataframe[\"age\"] <= 61], axis=0) \n",
    "\n",
    "dur_driv_youngold = dataframe[young_old_indexes][\"dur_driving\"]\n",
    "dur_driv_middleage = dataframe[middleage_indexes][\"dur_driving\"]\n",
    "dur_pt_youngold = dataframe[young_old_indexes][\"dur_pt_access\"] + \\\n",
    "    dataframe[young_old_indexes][\"dur_pt_rail\"] + \\\n",
    "    dataframe[young_old_indexes][\"dur_pt_bus\"] + \\\n",
    "    dataframe[young_old_indexes][\"dur_pt_int\"]\n",
    "dur_pt_middleage = dataframe[middleage_indexes][\"dur_pt_access\"] + \\\n",
    "    dataframe[middleage_indexes][\"dur_pt_rail\"] + \\\n",
    "    dataframe[middleage_indexes][\"dur_pt_bus\"] + \\\n",
    "    dataframe[middleage_indexes][\"dur_pt_int\"]\n",
    "\n",
    "vot_driv_youngold = beta_time_driv4 / beta_cost_youngold * dur_driv_youngold ** (lambda_cox - 1)\n",
    "vot_driv_middleage = beta_time_driv4 / beta_cost_middleage * dur_driv_middleage ** (lambda_cox - 1)\n",
    "\n",
    "vot_pt_youngold = beta_time_pt4 / beta_cost_youngold * dur_pt_youngold ** (lambda_cox - 1)\n",
    "vot_pt_middleage = beta_time_pt4 / beta_cost_middleage * dur_pt_middleage ** (lambda_cox - 1)\n",
    "\n",
    "print(\"average value of time for the young or old who are driving (GBP / hour):\")\n",
    "print(np.mean(vot_driv_youngold))\n",
    "\n",
    "print(\"\\naverage value of time for the middleaged who are driving (GBP / hour):\")\n",
    "print(np.mean(vot_driv_middleage))\n",
    "\n",
    "print(\"\\naverage value of time for the young or old who use public transport (GBP / hour):\")\n",
    "print(np.mean(vot_pt_youngold))\n",
    "\n",
    "print(\"\\naverage value of time for the middleaged who use public trasnport (GBP / hour):\")\n",
    "print(np.mean(vot_pt_middleage))\n",
    "\n",
    "print(\"\\naverage value of time for anyone driving (GBP / hour):\")\n",
    "print(np.mean([np.mean(vot_driv_youngold), np.mean(vot_driv_middleage)]))\n",
    "\n",
    "print(\"\\naverage value of time for anyone using public transport (GBP / hour):\")\n",
    "print(np.mean([np.mean(vot_pt_youngold), np.mean(vot_pt_middleage)]))"
   ]
  },
  {
   "cell_type": "markdown",
   "id": "1d1ea4d1",
   "metadata": {},
   "source": [
    "# ELASTICITIES"
   ]
  },
  {
   "cell_type": "code",
   "execution_count": 65,
   "id": "2b87bb0a",
   "metadata": {},
   "outputs": [],
   "source": [
    "# Normalize the weights\n",
    "sumWeight = database.data['Weight'].sum()\n",
    "numberOfRows = database.data.shape[0]\n",
    "normalizedWeight = Weight * numberOfRows / sumWeight"
   ]
  },
  {
   "cell_type": "code",
   "execution_count": 66,
   "id": "2f6f72c8",
   "metadata": {},
   "outputs": [
    {
     "data": {
      "text/plain": [
       "((Weight * `4998.0`) / `4998.0`)"
      ]
     },
     "execution_count": 66,
     "metadata": {},
     "output_type": "execute_result"
    }
   ],
   "source": [
    "normalizedWeight"
   ]
  },
  {
   "cell_type": "code",
   "execution_count": null,
   "id": "e439ee47",
   "metadata": {},
   "outputs": [],
   "source": [
    "logprob4 = models.loglogit(V4, None, travel_mode) \n",
    "\n",
    "biogeme4 = bio.BIOGEME(database, logprob4)\n",
    "biogeme4.modelName = 'logit_lpmc07_as'\n",
    "\n",
    "results = biogeme4.estimate(bootstrap=100, recycle=False)"
   ]
  },
  {
   "cell_type": "code",
   "execution_count": 67,
   "id": "72f863d6",
   "metadata": {},
   "outputs": [
    {
     "data": {
      "text/plain": [
       "(        Weight  Prob. public transportation  direct_elas_pt_cost  Prob. drive  \\\n",
       " 0     1.027892                     0.280454             0.000000     0.700980   \n",
       " 1     0.850433                     0.186586             0.000000     0.788966   \n",
       " 2     0.850433                     0.132209             0.000000     0.802028   \n",
       " 3     0.850433                     0.087917            -0.121429     0.308860   \n",
       " 4     1.027892                     0.745305             0.000000     0.240850   \n",
       " ...        ...                          ...                  ...          ...   \n",
       " 4995  1.027892                     0.366766            -0.090298     0.590144   \n",
       " 4996  1.214266                     0.349819            -0.088126     0.622680   \n",
       " 4997  0.875465                     0.099231            -0.120123     0.232398   \n",
       " 4998  1.027892                     0.796139            -0.125339     0.187185   \n",
       " 4999  1.214266                     0.230735            -0.108091     0.631365   \n",
       " \n",
       "       direct_elas_drive_cost  denominator_pt  numerator_pt_cost  \\\n",
       " 0                  -0.023264        0.288276           0.000000   \n",
       " 1                  -0.009520        0.158679           0.000000   \n",
       " 2                  -0.007118        0.112435           0.000000   \n",
       " 3                  -0.008588        0.074768          -0.009079   \n",
       " 4                  -0.197898        0.766094           0.000000   \n",
       " ...                      ...             ...                ...   \n",
       " 4995               -0.023768        0.376996          -0.034042   \n",
       " 4996               -0.029322        0.424773          -0.037434   \n",
       " 4997               -0.012284        0.086873          -0.010436   \n",
       " 4998               -0.203184        0.818345          -0.102571   \n",
       " 4999               -0.011050        0.280174          -0.030284   \n",
       " \n",
       "       denominator_drive  numerator_drive_cost  \n",
       " 0              0.720532             -0.016762  \n",
       " 1              0.670963             -0.006388  \n",
       " 2              0.682071             -0.004855  \n",
       " 3              0.262665             -0.002256  \n",
       " 4              0.247568             -0.048993  \n",
       " ...                 ...                   ...  \n",
       " 4995           0.606605             -0.014418  \n",
       " 4996           0.756100             -0.022170  \n",
       " 4997           0.203457             -0.002499  \n",
       " 4998           0.192406             -0.039094  \n",
       " 4999           0.766645             -0.008472  \n",
       " \n",
       " [4998 rows x 9 columns],\n",
       " -0.07057374060279839,\n",
       " -0.05052813627274716)"
      ]
     },
     "execution_count": 67,
     "metadata": {},
     "output_type": "execute_result"
    }
   ],
   "source": [
    "def elasticity(V, av):\n",
    "    \n",
    "    prob_PT = models.logit(V, av, 3)\n",
    "    prob_DRIVE = models.logit(V, av, 4)\n",
    "    \n",
    "    direct_elas_pt_cost = ( Derive(prob_PT, 'cost_transit') * cost_transit / prob_PT )    \n",
    "    direct_elas_car_cost = ( Derive(prob_DRIVE, 'cost_driving') * cost_driving / prob_DRIVE )\n",
    "        \n",
    "    simulate = {\n",
    "        'Weight': normalizedWeight,\n",
    "        'Prob. public transportation': prob_PT,\n",
    "        'direct_elas_pt_cost': direct_elas_pt_cost,\n",
    "        'Prob. drive': prob_DRIVE,\n",
    "        'direct_elas_drive_cost': direct_elas_car_cost,\n",
    "    }\n",
    "    \n",
    "    biosim = bio.BIOGEME(database, simulate)\n",
    "    simulated_values = biosim.simulate(results.getBetaValues())\n",
    "    \n",
    "    # aggregate elastiticities for public transportation\n",
    "    \n",
    "    simulated_values['denominator_pt'] = (\n",
    "    simulated_values['Weight'] *\n",
    "    simulated_values['Prob. public transportation'])\n",
    "        \n",
    "    simulated_values['numerator_pt_cost'] = (\n",
    "    simulated_values['Weight'] *\n",
    "    simulated_values['Prob. public transportation'] *\n",
    "    simulated_values['direct_elas_pt_cost'])\n",
    "    \n",
    "    # aggregate elastiticities for driving\n",
    "    \n",
    "    simulated_values['denominator_drive'] = (\n",
    "    simulated_values['Weight'] *\n",
    "    simulated_values['Prob. drive'])\n",
    "    \n",
    "    simulated_values['numerator_drive_cost'] = (\n",
    "    simulated_values['Weight'] *\n",
    "    simulated_values['Prob. drive'] *\n",
    "    simulated_values['direct_elas_drive_cost'])\n",
    "    \n",
    "    agg_elast_pt_cost = simulated_values['numerator_pt_cost'].sum() / simulated_values['denominator_pt'].sum()\n",
    "    \n",
    "    agg_elast_drive_cost = simulated_values['numerator_drive_cost'].sum() / simulated_values['denominator_drive'].sum()\n",
    "        \n",
    "    return simulated_values, agg_elast_pt_cost, agg_elast_drive_cost\n",
    "\n",
    "simulated_values = elasticity(V4, av)\n",
    "simulated_values"
   ]
  },
  {
   "cell_type": "code",
   "execution_count": null,
   "id": "9906f488",
   "metadata": {},
   "outputs": [],
   "source": []
  }
 ],
 "metadata": {
  "kernelspec": {
   "display_name": "mathBehavior",
   "language": "python",
   "name": "mathbehavior"
  },
  "language_info": {
   "codemirror_mode": {
    "name": "ipython",
    "version": 3
   },
   "file_extension": ".py",
   "mimetype": "text/x-python",
   "name": "python",
   "nbconvert_exporter": "python",
   "pygments_lexer": "ipython3",
   "version": "3.9.12"
  }
 },
 "nbformat": 4,
 "nbformat_minor": 5
}
