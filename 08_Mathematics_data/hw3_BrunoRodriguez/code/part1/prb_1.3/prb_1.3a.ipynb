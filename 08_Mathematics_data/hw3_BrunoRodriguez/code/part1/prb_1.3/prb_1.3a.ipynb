{
 "cells": [
  {
   "cell_type": "code",
   "execution_count": null,
   "metadata": {},
   "outputs": [],
   "source": [
    "import scipy.io\n",
    "import numpy as np\n",
    "from scipy.sparse import csr_matrix\n",
    "from proj_L1 import proj_L1\n",
    "from time import time"
   ]
  },
  {
   "cell_type": "code",
   "execution_count": null,
   "metadata": {},
   "outputs": [],
   "source": [
    "def proj_nuc(Z, kappa):\n",
    "    #PROJNUC This function implements the projection onto nuclear norm ball.\n",
    "    \n",
    "    # Implement projection operator here!\n",
    "    \n",
    "    return "
   ]
  },
  {
   "cell_type": "code",
   "execution_count": null,
   "metadata": {},
   "outputs": [],
   "source": [
    "data = scipy.io.loadmat('./dataset/ml-100k/ub_base')  # load 100k dataset\n",
    "\n",
    "Rating = data['Rating'].flatten()\n",
    "UserID = data['UserID'].flatten() - 1  # Python indexing starts from 0 whereas Matlab from 1\n",
    "MovID = data['MovID'].flatten() - 1    # Python indexing starts from 0 whereas Matlab from 1\n",
    "\n",
    "nM = np.amax(data['MovID'])\n",
    "nU = np.amax(data['UserID'])\n",
    "\n",
    "Z = csr_matrix((Rating, (MovID, UserID)),shape=(nM, nU),dtype=float).toarray()\n",
    "kappa = 5000\n",
    "\n",
    "tstart = time()\n",
    "Z_proj = proj_nuc(Z, kappa)\n",
    "elapsed = time() - tstart\n",
    "print('proj for 100k data takes {} sec'.format(elapsed))"
   ]
  },
  {
   "cell_type": "code",
   "execution_count": null,
   "metadata": {},
   "outputs": [],
   "source": [
    "# NOTE: This one can take few minutes!\n",
    "data = scipy.io.loadmat('./dataset/ml-1m/ml1m_base')  # load 1M dataset\n",
    "\n",
    "Rating = data['Rating'].flatten()\n",
    "UserID = data['UserID'].flatten() - 1  # Python indexing starts from 0 whereas Matlab from 1\n",
    "MovID = data['MovID'].flatten() - 1    # Python indexing starts from 0 whereas Matlab from 1\n",
    "\n",
    "nM = np.amax(data['MovID'])\n",
    "nU = np.amax(data['UserID'])\n",
    "\n",
    "Z = csr_matrix((Rating, (MovID, UserID)),shape=(nM, nU),dtype=float).toarray()\n",
    "kappa = 5000\n",
    "\n",
    "tstart = time()\n",
    "Z_proj = proj_nuc(Z, kappa)\n",
    "elapsed = time() - tstart\n",
    "print('proj for 1M data takes {} sec'.format(elapsed))"
   ]
  },
  {
   "cell_type": "code",
   "execution_count": null,
   "metadata": {},
   "outputs": [],
   "source": []
  }
 ],
 "metadata": {
  "anaconda-cloud": {},
  "kernelspec": {
   "display_name": "Python 2",
   "language": "python",
   "name": "python2"
  },
  "language_info": {
   "codemirror_mode": {
    "name": "ipython",
    "version": 2
   },
   "file_extension": ".py",
   "mimetype": "text/x-python",
   "name": "python",
   "nbconvert_exporter": "python",
   "pygments_lexer": "ipython2",
   "version": "2.7.15"
  }
 },
 "nbformat": 4,
 "nbformat_minor": 2
}
