{
 "cells": [
  {
   "cell_type": "markdown",
   "id": "sonic-responsibility",
   "metadata": {},
   "source": [
    "# Photon gas"
   ]
  },
  {
   "cell_type": "code",
   "execution_count": 30,
   "id": "sunrise-angola",
   "metadata": {},
   "outputs": [],
   "source": [
    "import random as r\n",
    "import math as m\n",
    "import matplotlib.pyplot as plt\n",
    "import numpy as np \n",
    "\n",
    "from ipywidgets import interact, interactive, fixed, interact_manual\n",
    "import ipywidgets as widgets\n",
    "\n",
    "# Random Seed\n",
    "r.seed(42)"
   ]
  },
  {
   "cell_type": "code",
   "execution_count": 35,
   "id": "abstract-chess",
   "metadata": {},
   "outputs": [
    {
     "name": "stdout",
     "output_type": "stream",
     "text": [
      "0.5735512630014858\n"
     ]
    }
   ],
   "source": [
    "\n",
    "numberOfIterations = 1000\n",
    "beta = 1.0\n",
    "\n",
    "def calculateOccupancy(beta=1.0):\n",
    "\n",
    "    trialnj = 1\n",
    "    currentnj = 1\n",
    "    njsum = 0\n",
    "    numStatesVisited = 0\n",
    "    estimatedOccupancy=0\n",
    "\n",
    "    for i in range(numberOfIterations):        \n",
    "        if r.random() < 0.50: trialnj = currentnj + 1       \n",
    "        else: trialnj = currentnj - 1             \n",
    "        \n",
    "        if trialnj < 0: trialnj = 0 #Test if trialnj < 0, if it is, force it to be 0\n",
    "        \n",
    "        alpha = min(1., np.exp( -beta*(trialnj - currentnj) ))\n",
    "        if r.random() < alpha:\n",
    "            #update current sample:\n",
    "            currentnj = trialnj   \n",
    "             ###this is the incorrect solution\n",
    "            #njsum += currentnj #  sum over ocupations        \n",
    "            #numStatesVisited +=1 #sum visited state\n",
    "        \n",
    "        ###this is the correct solution\n",
    "        njsum += currentnj #  sum over ocupations        \n",
    "        numStatesVisited +=1 #sum visited state\n",
    "    \n",
    "    \"\"\"  Modification\n",
    "    Metropolis algorithm implementation to calculate <n_j>\n",
    "    Tasks:\n",
    "    1) Loop from int i = 0 to numberOfiterations\n",
    "    2) Call random(0, 1) to perform a trial move to randomly increase\n",
    "        or decrease trialnj by 1.\n",
    "        Hint: use trialnj = currentnj + 1;\n",
    "    3) Test if trialnj < 0, if it is, force it to be 0\n",
    "    4) Accept the trial move with probability defined in section 3.1.4.1\n",
    "        Note: Accepting the trial move means updating current sample (currentnj)\n",
    "        with the new move (trialnj);\n",
    "    5) sum currentnj and increase numStatesVisited by 1\n",
    "\n",
    "    *** END MODIFICATION ***\n",
    "    \"\"\"\n",
    "        \n",
    "    estimatedOccupancy = njsum/numStatesVisited\n",
    "\n",
    "    return estimatedOccupancy\n",
    "\n",
    "# perform a single calculation\n",
    "estimatedOccupancy = calculateOccupancy(beta=beta)\n",
    "print(estimatedOccupancy)"
   ]
  },
  {
   "cell_type": "code",
   "execution_count": 39,
   "id": "promotional-scanner",
   "metadata": {},
   "outputs": [],
   "source": [
    "x=np.linspace(0.1,5)\n",
    "analytical_y= 1/(np.exp(x)-1)"
   ]
  },
  {
   "cell_type": "code",
   "execution_count": 40,
   "id": "painted-muslim",
   "metadata": {},
   "outputs": [],
   "source": [
    "estimated_y=[calculateOccupancy(beta=b) for b in x]\n",
    "error = np.abs(analytical_y - estimated_y)"
   ]
  },
  {
   "cell_type": "code",
   "execution_count": 41,
   "id": "waiting-contest",
   "metadata": {},
   "outputs": [
    {
     "data": {
      "image/png": "[encoded data removed]",
      "text/plain": [
       "<Figure size 432x288 with 1 Axes>"
      ]
     },
     "metadata": {
      "needs_background": "light"
     },
     "output_type": "display_data"
    }
   ],
   "source": [
    "fig, ax = plt.subplots(1)\n",
    "ax.plot(x,analytical_y, label='analytical',c='tab:blue', lw=1)\n",
    "ax.plot(x,estimated_y, label='estimated', marker='x', c='tab:orange', lw = 1)\n",
    "ax.set_xlabel(\"beta\")\n",
    "ax.set_ylabel('Occupancy')\n",
    "ax.grid(which='both')\n",
    "ax.legend()\n",
    "#plt.savefig('photon_distribution.png',dpi=300)\n",
    "plt.show()"
   ]
  },
  {
   "cell_type": "code",
   "execution_count": null,
   "id": "funny-baseball",
   "metadata": {},
   "outputs": [],
   "source": []
  }
 ],
 "metadata": {
  "kernelspec": {
   "display_name": "Python 3",
   "language": "python",
   "name": "python3"
  },
  "language_info": {
   "codemirror_mode": {
    "name": "ipython",
    "version": 3
   },
   "file_extension": ".py",
   "mimetype": "text/x-python",
   "name": "python",
   "nbconvert_exporter": "python",
   "pygments_lexer": "ipython3",
   "version": "3.7.9"
  }
 },
 "nbformat": 4,
 "nbformat_minor": 5
}
